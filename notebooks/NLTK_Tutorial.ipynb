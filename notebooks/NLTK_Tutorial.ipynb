{
 "cells": [
  {
   "cell_type": "markdown",
   "metadata": {},
   "source": [
    "## NLTK for sentiment analysis\n",
    "Following:  https://pythonprogramming.net/tokenizing-words-sentences-nltk-tutorial/"
   ]
  },
  {
   "cell_type": "markdown",
   "metadata": {},
   "source": [
    "### Practice tokenizing"
   ]
  },
  {
   "cell_type": "code",
   "execution_count": 138,
   "metadata": {
    "collapsed": false
   },
   "outputs": [],
   "source": [
    "from nltk.tokenize import sent_tokenize, word_tokenize, PunktSentenceTokenizer\n",
    "from nltk.corpus import stopwords, state_union, gutenberg, wordnet, movie_reviews\n",
    "from nltk.stem import PorterStemmer, WordNetLemmatizer\n",
    "import nltk\n",
    "import pprint\n",
    "import random\n",
    "import pickle\n",
    "from nltk.classify.scikitlearn import SklearnClassifier\n",
    "from sklearn.naive_bayes import MultinomialNB, BernoulliNB\n",
    "from sklearn.linear_model import LogisticRegression,SGDClassifier\n",
    "from sklearn.svm import SVC, LinearSVC, NuSVC\n",
    "pp = pprint.PrettyPrinter(indent=4)"
   ]
  },
  {
   "cell_type": "code",
   "execution_count": 2,
   "metadata": {
    "collapsed": false
   },
   "outputs": [
    {
     "name": "stdout",
     "output_type": "stream",
     "text": [
      "['Next week my family and I are going to Yosemite National Park.', 'Ansel Adams took many great pictures of Yosemite.', \"We'll try to climb Half Dome.\", \"It's a rather long hike and we hope that the weather holds.\", 'Mr. S. Harris is my father and Mrs. M. Harris is my mother.']\n",
      "['Next', 'week', 'my', 'family', 'and', 'I', 'are', 'going', 'to', 'Yosemite', 'National', 'Park', '.', 'Ansel', 'Adams', 'took', 'many', 'great', 'pictures', 'of', 'Yosemite', '.', 'We', \"'ll\", 'try', 'to', 'climb', 'Half', 'Dome', '.', 'It', \"'s\", 'a', 'rather', 'long', 'hike', 'and', 'we', 'hope', 'that', 'the', 'weather', 'holds', '.', 'Mr.', 'S.', 'Harris', 'is', 'my', 'father', 'and', 'Mrs.', 'M.', 'Harris', 'is', 'my', 'mother', '.']\n"
     ]
    }
   ],
   "source": [
    "example_text = \"Next week my family and I are going to Yosemite National Park.  Ansel Adams took many great pictures of Yosemite.  We'll try to climb Half Dome.  It's a rather long hike and we hope that the weather holds.  Mr. S. Harris is my father and Mrs. M. Harris is my mother.\"\n",
    "print(sent_tokenize(example_text))\n",
    "print(word_tokenize(example_text))"
   ]
  },
  {
   "cell_type": "markdown",
   "metadata": {},
   "source": [
    "### Stop words"
   ]
  },
  {
   "cell_type": "code",
   "execution_count": 3,
   "metadata": {
    "collapsed": false
   },
   "outputs": [
    {
     "data": {
      "text/plain": [
       "{'a',\n",
       " 'about',\n",
       " 'above',\n",
       " 'after',\n",
       " 'again',\n",
       " 'against',\n",
       " 'ain',\n",
       " 'all',\n",
       " 'am',\n",
       " 'an',\n",
       " 'and',\n",
       " 'any',\n",
       " 'are',\n",
       " 'aren',\n",
       " 'as',\n",
       " 'at',\n",
       " 'be',\n",
       " 'because',\n",
       " 'been',\n",
       " 'before',\n",
       " 'being',\n",
       " 'below',\n",
       " 'between',\n",
       " 'both',\n",
       " 'but',\n",
       " 'by',\n",
       " 'can',\n",
       " 'couldn',\n",
       " 'd',\n",
       " 'did',\n",
       " 'didn',\n",
       " 'do',\n",
       " 'does',\n",
       " 'doesn',\n",
       " 'doing',\n",
       " 'don',\n",
       " 'down',\n",
       " 'during',\n",
       " 'each',\n",
       " 'few',\n",
       " 'for',\n",
       " 'from',\n",
       " 'further',\n",
       " 'had',\n",
       " 'hadn',\n",
       " 'has',\n",
       " 'hasn',\n",
       " 'have',\n",
       " 'haven',\n",
       " 'having',\n",
       " 'he',\n",
       " 'her',\n",
       " 'here',\n",
       " 'hers',\n",
       " 'herself',\n",
       " 'him',\n",
       " 'himself',\n",
       " 'his',\n",
       " 'how',\n",
       " 'i',\n",
       " 'if',\n",
       " 'in',\n",
       " 'into',\n",
       " 'is',\n",
       " 'isn',\n",
       " 'it',\n",
       " 'its',\n",
       " 'itself',\n",
       " 'just',\n",
       " 'll',\n",
       " 'm',\n",
       " 'ma',\n",
       " 'me',\n",
       " 'mightn',\n",
       " 'more',\n",
       " 'most',\n",
       " 'mustn',\n",
       " 'my',\n",
       " 'myself',\n",
       " 'needn',\n",
       " 'no',\n",
       " 'nor',\n",
       " 'not',\n",
       " 'now',\n",
       " 'o',\n",
       " 'of',\n",
       " 'off',\n",
       " 'on',\n",
       " 'once',\n",
       " 'only',\n",
       " 'or',\n",
       " 'other',\n",
       " 'our',\n",
       " 'ours',\n",
       " 'ourselves',\n",
       " 'out',\n",
       " 'over',\n",
       " 'own',\n",
       " 're',\n",
       " 's',\n",
       " 'same',\n",
       " 'shan',\n",
       " 'she',\n",
       " 'should',\n",
       " 'shouldn',\n",
       " 'so',\n",
       " 'some',\n",
       " 'such',\n",
       " 't',\n",
       " 'than',\n",
       " 'that',\n",
       " 'the',\n",
       " 'their',\n",
       " 'theirs',\n",
       " 'them',\n",
       " 'themselves',\n",
       " 'then',\n",
       " 'there',\n",
       " 'these',\n",
       " 'they',\n",
       " 'this',\n",
       " 'those',\n",
       " 'through',\n",
       " 'to',\n",
       " 'too',\n",
       " 'under',\n",
       " 'until',\n",
       " 'up',\n",
       " 've',\n",
       " 'very',\n",
       " 'was',\n",
       " 'wasn',\n",
       " 'we',\n",
       " 'were',\n",
       " 'weren',\n",
       " 'what',\n",
       " 'when',\n",
       " 'where',\n",
       " 'which',\n",
       " 'while',\n",
       " 'who',\n",
       " 'whom',\n",
       " 'why',\n",
       " 'will',\n",
       " 'with',\n",
       " 'won',\n",
       " 'wouldn',\n",
       " 'y',\n",
       " 'you',\n",
       " 'your',\n",
       " 'yours',\n",
       " 'yourself',\n",
       " 'yourselves'}"
      ]
     },
     "execution_count": 3,
     "metadata": {},
     "output_type": "execute_result"
    }
   ],
   "source": [
    "set(stopwords.words('english'))"
   ]
  },
  {
   "cell_type": "code",
   "execution_count": 4,
   "metadata": {
    "collapsed": false
   },
   "outputs": [
    {
     "name": "stdout",
     "output_type": "stream",
     "text": [
      "ALL WORDS:  ['Next', 'week', 'my', 'family', 'and', 'I', 'are', 'going', 'to', 'Yosemite', 'National', 'Park', '.', 'Ansel', 'Adams', 'took', 'many', 'great', 'pictures', 'of', 'Yosemite', '.', 'We', \"'ll\", 'try', 'to', 'climb', 'Half', 'Dome', '.', 'It', \"'s\", 'a', 'rather', 'long', 'hike', 'and', 'we', 'hope', 'that', 'the', 'weather', 'holds', '.', 'Mr.', 'S.', 'Harris', 'is', 'my', 'father', 'and', 'Mrs.', 'M.', 'Harris', 'is', 'my', 'mother', '.']\n",
      "FILTERED WORDS:  ['Next', 'week', 'family', 'I', 'going', 'Yosemite', 'National', 'Park', '.', 'Ansel', 'Adams', 'took', 'many', 'great', 'pictures', 'Yosemite', '.', 'We', \"'ll\", 'try', 'climb', 'Half', 'Dome', '.', 'It', \"'s\", 'rather', 'long', 'hike', 'hope', 'weather', 'holds', '.', 'Mr.', 'S.', 'Harris', 'father', 'Mrs.', 'M.', 'Harris', 'mother', '.']\n"
     ]
    }
   ],
   "source": [
    "stops = set(stopwords.words('english'))\n",
    "words = word_tokenize(example_text)\n",
    "filtered = [w for w in words if w not in stops]\n",
    "print('ALL WORDS: ', words)\n",
    "print('FILTERED WORDS: ', filtered)"
   ]
  },
  {
   "cell_type": "markdown",
   "metadata": {},
   "source": [
    "### Stemming words"
   ]
  },
  {
   "cell_type": "code",
   "execution_count": 5,
   "metadata": {
    "collapsed": false
   },
   "outputs": [
    {
     "name": "stdout",
     "output_type": "stream",
     "text": [
      "rider\n",
      "ride\n",
      "ride\n",
      "rid\n",
      "ride\n"
     ]
    }
   ],
   "source": [
    "ps = PorterStemmer()\n",
    "example_words = ['rider', 'ride', 'riding', 'ridded', 'ridely']\n",
    "for w in example_words:\n",
    "    print(ps.stem(w))"
   ]
  },
  {
   "cell_type": "code",
   "execution_count": 6,
   "metadata": {
    "collapsed": false
   },
   "outputs": [
    {
     "name": "stdout",
     "output_type": "stream",
     "text": [
      "I\n",
      "wa\n",
      "ride\n",
      "in\n",
      "the\n",
      "ride\n",
      "vehicl\n",
      "and\n",
      "enjoy\n",
      "the\n",
      "ride\n",
      "from\n",
      "which\n",
      "I\n",
      "had\n",
      "rid\n",
      "befor\n"
     ]
    }
   ],
   "source": [
    "example_sentence = 'I was riding in the ridely vehicle and enjoying the ride from which I had ridded before'\n",
    "for w in word_tokenize(example_sentence):\n",
    "    print(ps.stem(w))"
   ]
  },
  {
   "cell_type": "markdown",
   "metadata": {},
   "source": [
    "### Parts of speech tagging"
   ]
  },
  {
   "cell_type": "markdown",
   "metadata": {},
   "source": [
    "Here is a list of the acronyms for POS tagging:\n",
    "\n",
    "```text\n",
    "POS tag list:\n",
    "\n",
    "CC\tcoordinating conjunction\n",
    "CD\tcardinal digit\n",
    "DT\tdeterminer\n",
    "EX\texistential there (like: \"there is\" ... think of it like \"there exists\")\n",
    "FW\tforeign word\n",
    "IN\tpreposition/subordinating conjunction\n",
    "JJ\tadjective\t'big'\n",
    "JJR\tadjective, comparative\t'bigger'\n",
    "JJS\tadjective, superlative\t'biggest'\n",
    "LS\tlist marker\t1)\n",
    "MD\tmodal\tcould, will\n",
    "NN\tnoun, singular 'desk'\n",
    "NNS\tnoun plural\t'desks'\n",
    "NNP\tproper noun, singular\t'Harrison'\n",
    "NNPS\tproper noun, plural\t'Americans'\n",
    "PDT\tpredeterminer\t'all the kids'\n",
    "POS\tpossessive ending\tparent's\n",
    "PRP\tpersonal pronoun\tI, he, she\n",
    "PRP$\tpossessive pronoun\tmy, his, hers\n",
    "RB\tadverb\tvery, silently,\n",
    "RBR\tadverb, comparative\tbetter\n",
    "RBS\tadverb, superlative\tbest\n",
    "RP\tparticle\tgive up\n",
    "TO\tto\tgo 'to' the store.\n",
    "UH\tinterjection\terrrrrrrrm\n",
    "VB\tverb, base form\ttake\n",
    "VBD\tverb, past tense\ttook\n",
    "VBG\tverb, gerund/present participle\ttaking\n",
    "VBN\tverb, past participle\ttaken\n",
    "VBP\tverb, sing. present, non-3d\ttake\n",
    "VBZ\tverb, 3rd person sing. present\ttakes\n",
    "WDT\twh-determiner\twhich\n",
    "WP\twh-pronoun\twho, what\n",
    "WP$\tpossessive wh-pronoun\twhose\n",
    "WRB\twh-abverb\twhere, when\n",
    "```"
   ]
  },
  {
   "cell_type": "markdown",
   "metadata": {},
   "source": [
    "PunktSentenceTokenizer tokenizer is capable of unsupervised machine learning, so you can actually train it on any body of text that you use."
   ]
  },
  {
   "cell_type": "code",
   "execution_count": 7,
   "metadata": {
    "collapsed": false
   },
   "outputs": [],
   "source": [
    "train_text = state_union.raw(\"2005-GWBush.txt\")\n",
    "test_text = state_union.raw(\"2006-GWBush.txt\")"
   ]
  },
  {
   "cell_type": "code",
   "execution_count": 8,
   "metadata": {
    "collapsed": false
   },
   "outputs": [
    {
     "name": "stdout",
     "output_type": "stream",
     "text": [
      "[\"PRESIDENT GEORGE W. BUSH'S ADDRESS BEFORE A JOINT SESSION OF THE CONGRESS ON THE STATE OF THE UNION\\n \\nJanuary 31, 2006\\n\\nTHE PRESIDENT: Thank you all.\", 'Mr. Speaker, Vice President Cheney, members of Congress, members of the Supreme Court and diplomatic corps, distinguished guests, and fellow citizens: Today our nation lost a beloved, graceful, courageous woman who called America to its founding ideals and carried on a noble dream.', 'Tonight we are comforted by the hope of a glad reunion with the husband who was taken so long ago, and we are grateful for the good life of Coretta Scott King.']\n"
     ]
    }
   ],
   "source": [
    "custom_sent_tokenizer = PunktSentenceTokenizer(train_text)\n",
    "tokenized = custom_sent_tokenizer.tokenize(test_text)\n",
    "print(tokenized[:3])"
   ]
  },
  {
   "cell_type": "code",
   "execution_count": 9,
   "metadata": {
    "collapsed": false
   },
   "outputs": [
    {
     "name": "stdout",
     "output_type": "stream",
     "text": [
      "[   ('PRESIDENT', 'NNP'),\n",
      "    ('GEORGE', 'NNP'),\n",
      "    ('W.', 'NNP'),\n",
      "    ('BUSH', 'NNP'),\n",
      "    (\"'S\", 'POS'),\n",
      "    ('ADDRESS', 'NNP'),\n",
      "    ('BEFORE', 'IN'),\n",
      "    ('A', 'NNP'),\n",
      "    ('JOINT', 'NNP'),\n",
      "    ('SESSION', 'NNP'),\n",
      "    ('OF', 'IN'),\n",
      "    ('THE', 'NNP'),\n",
      "    ('CONGRESS', 'NNP'),\n",
      "    ('ON', 'NNP'),\n",
      "    ('THE', 'NNP'),\n",
      "    ('STATE', 'NNP'),\n",
      "    ('OF', 'IN'),\n",
      "    ('THE', 'NNP'),\n",
      "    ('UNION', 'NNP'),\n",
      "    ('January', 'NNP'),\n",
      "    ('31', 'CD'),\n",
      "    (',', ','),\n",
      "    ('2006', 'CD'),\n",
      "    ('THE', 'NNP'),\n",
      "    ('PRESIDENT', 'NNP'),\n",
      "    (':', ':'),\n",
      "    ('Thank', 'NNP'),\n",
      "    ('you', 'PRP'),\n",
      "    ('all', 'DT'),\n",
      "    ('.', '.')]\n",
      "[   ('Mr.', 'NNP'),\n",
      "    ('Speaker', 'NNP'),\n",
      "    (',', ','),\n",
      "    ('Vice', 'NNP'),\n",
      "    ('President', 'NNP'),\n",
      "    ('Cheney', 'NNP'),\n",
      "    (',', ','),\n",
      "    ('members', 'NNS'),\n",
      "    ('of', 'IN'),\n",
      "    ('Congress', 'NNP'),\n",
      "    (',', ','),\n",
      "    ('members', 'NNS'),\n",
      "    ('of', 'IN'),\n",
      "    ('the', 'DT'),\n",
      "    ('Supreme', 'NNP'),\n",
      "    ('Court', 'NNP'),\n",
      "    ('and', 'CC'),\n",
      "    ('diplomatic', 'JJ'),\n",
      "    ('corps', 'NN'),\n",
      "    (',', ','),\n",
      "    ('distinguished', 'JJ'),\n",
      "    ('guests', 'NNS'),\n",
      "    (',', ','),\n",
      "    ('and', 'CC'),\n",
      "    ('fellow', 'JJ'),\n",
      "    ('citizens', 'NNS'),\n",
      "    (':', ':'),\n",
      "    ('Today', 'VB'),\n",
      "    ('our', 'PRP$'),\n",
      "    ('nation', 'NN'),\n",
      "    ('lost', 'VBD'),\n",
      "    ('a', 'DT'),\n",
      "    ('beloved', 'VBN'),\n",
      "    (',', ','),\n",
      "    ('graceful', 'JJ'),\n",
      "    (',', ','),\n",
      "    ('courageous', 'JJ'),\n",
      "    ('woman', 'NN'),\n",
      "    ('who', 'WP'),\n",
      "    ('called', 'VBD'),\n",
      "    ('America', 'NNP'),\n",
      "    ('to', 'TO'),\n",
      "    ('its', 'PRP$'),\n",
      "    ('founding', 'NN'),\n",
      "    ('ideals', 'NNS'),\n",
      "    ('and', 'CC'),\n",
      "    ('carried', 'VBD'),\n",
      "    ('on', 'IN'),\n",
      "    ('a', 'DT'),\n",
      "    ('noble', 'JJ'),\n",
      "    ('dream', 'NN'),\n",
      "    ('.', '.')]\n"
     ]
    }
   ],
   "source": [
    "def process_sentences(sents):\n",
    "    for sent in sents:\n",
    "        # Tokenize by word and get POS tags for each\n",
    "        words = nltk.word_tokenize(sent)\n",
    "        tagged = nltk.pos_tag(words)\n",
    "        # Pretty print\n",
    "        pp.pprint(tagged)\n",
    "\n",
    "mysents = tokenized[:2]\n",
    "process_sentences(mysents)"
   ]
  },
  {
   "cell_type": "markdown",
   "metadata": {},
   "source": [
    "### Chunking with NLTK"
   ]
  },
  {
   "cell_type": "code",
   "execution_count": 11,
   "metadata": {
    "collapsed": false
   },
   "outputs": [],
   "source": [
    "chunk_gram = r'''Chunk: {<RB.?>*<VB.?>*<NNP>+<NN>?}'''\n",
    "def process_sentences_regex(sents, chunk_gram):\n",
    "    for sent in sents:\n",
    "        # Tokenize by word and get POS tags for each\n",
    "        words = nltk.word_tokenize(sent)\n",
    "        tagged = nltk.pos_tag(words)\n",
    "        chunk_parser = nltk.RegexpParser(chunk_gram)\n",
    "        chunked = chunk_parser.parse(tagged)\n",
    "        # Interactive drawing - uncomment if care to see the tree\n",
    "#         chunked.draw()\n",
    "        \n",
    "        \n",
    "mysents = tokenized[:2]\n",
    "process_sentences_regex(mysents, chunk_gram)"
   ]
  },
  {
   "cell_type": "markdown",
   "metadata": {
    "collapsed": true
   },
   "source": [
    "This line, broken down:\n",
    "\n",
    "```text\n",
    "<RB.?>* = \"0 or more of any tense of adverb,\" followed by:\n",
    "\n",
    "<VB.?>* = \"0 or more of any tense of verb,\" followed by:\n",
    "\n",
    "<NNP>+ = \"One or more proper nouns,\" followed by\n",
    "\n",
    "<NN>? = \"zero or one singular noun.\"\n",
    "```"
   ]
  },
  {
   "cell_type": "code",
   "execution_count": 16,
   "metadata": {
    "collapsed": false
   },
   "outputs": [
    {
     "name": "stdout",
     "output_type": "stream",
     "text": [
      "(Chunk PRESIDENT/NNP GEORGE/NNP W./NNP BUSH/NNP)\n",
      "(Chunk ADDRESS/NNP)\n",
      "(Chunk A/NNP JOINT/NNP SESSION/NNP)\n",
      "(Chunk THE/NNP CONGRESS/NNP ON/NNP THE/NNP STATE/NNP)\n",
      "(Chunk THE/NNP UNION/NNP January/NNP)\n",
      "(Chunk THE/NNP PRESIDENT/NNP)\n",
      "(Chunk Thank/NNP)\n",
      "(Chunk Mr./NNP Speaker/NNP)\n",
      "(Chunk Vice/NNP President/NNP Cheney/NNP)\n",
      "(Chunk Congress/NNP)\n",
      "(Chunk Supreme/NNP Court/NNP)\n",
      "(Chunk called/VBD America/NNP)\n"
     ]
    }
   ],
   "source": [
    "chunk_gram = r'''Chunk: {<RB.?>*<VB.?>*<NNP>+<NN>?}'''\n",
    "chunk_parser = nltk.RegexpParser(chunk_gram)\n",
    "def process_sentences_regex(sents, chunk_gram):\n",
    "    for sent in sents:\n",
    "        # Tokenize by word and get POS tags for each\n",
    "        words = nltk.word_tokenize(sent)\n",
    "        tagged = nltk.pos_tag(words)\n",
    "        chunked = chunk_parser.parse(tagged)\n",
    "        subtreed = chunked.subtrees(filter=lambda t: t.label() == 'Chunk')\n",
    "        for subtree in subtreed:\n",
    "            print(subtree)\n",
    "        \n",
    "        \n",
    "mysents = tokenized[:2]\n",
    "process_sentences_regex(mysents, chunk_gram)"
   ]
  },
  {
   "cell_type": "markdown",
   "metadata": {},
   "source": [
    "### Chinking with NLTK\n",
    "\n",
    "Chinking is a lot like chunking, it is basically a way for you to remove a chunk from a chunk. The chunk that you remove from your chunk is your chink."
   ]
  },
  {
   "cell_type": "code",
   "execution_count": 18,
   "metadata": {
    "collapsed": false
   },
   "outputs": [
    {
     "name": "stdout",
     "output_type": "stream",
     "text": [
      "(Chunk PRESIDENT/NNP GEORGE/NNP W./NNP BUSH/NNP 'S/POS ADDRESS/NNP)\n",
      "(Chunk A/NNP JOINT/NNP SESSION/NNP)\n",
      "(Chunk THE/NNP CONGRESS/NNP ON/NNP THE/NNP STATE/NNP)\n",
      "(Chunk\n",
      "  THE/NNP\n",
      "  UNION/NNP\n",
      "  January/NNP\n",
      "  31/CD\n",
      "  ,/,\n",
      "  2006/CD\n",
      "  THE/NNP\n",
      "  PRESIDENT/NNP\n",
      "  :/:\n",
      "  Thank/NNP\n",
      "  you/PRP)\n",
      "(Chunk ./.)\n",
      "(Chunk\n",
      "  Mr./NNP\n",
      "  Speaker/NNP\n",
      "  ,/,\n",
      "  Vice/NNP\n",
      "  President/NNP\n",
      "  Cheney/NNP\n",
      "  ,/,\n",
      "  members/NNS)\n",
      "(Chunk Congress/NNP ,/, members/NNS)\n",
      "(Chunk\n",
      "  Supreme/NNP\n",
      "  Court/NNP\n",
      "  and/CC\n",
      "  diplomatic/JJ\n",
      "  corps/NN\n",
      "  ,/,\n",
      "  distinguished/JJ\n",
      "  guests/NNS\n",
      "  ,/,\n",
      "  and/CC\n",
      "  fellow/JJ\n",
      "  citizens/NNS\n",
      "  :/:)\n",
      "(Chunk our/PRP$ nation/NN)\n",
      "(Chunk ,/, graceful/JJ ,/, courageous/JJ woman/NN who/WP)\n",
      "(Chunk America/NNP)\n",
      "(Chunk its/PRP$ founding/NN ideals/NNS and/CC)\n",
      "(Chunk noble/JJ dream/NN ./.)\n"
     ]
    }
   ],
   "source": [
    "chunk_gram = r'''Chunk: {<.*>+}\n",
    "                        }<VB.?|IN|DT|TO>+{'''\n",
    "chunk_parser = nltk.RegexpParser(chunk_gram)\n",
    "def process_sentences_regex(sents, chunk_gram):\n",
    "    for sent in sents:\n",
    "        # Tokenize by word and get POS tags for each\n",
    "        words = nltk.word_tokenize(sent)\n",
    "        tagged = nltk.pos_tag(words)\n",
    "        chunked = chunk_parser.parse(tagged)\n",
    "        subtreed = chunked.subtrees(filter=lambda t: t.label() == 'Chunk')\n",
    "        for subtree in subtreed:\n",
    "            print(subtree)\n",
    "        \n",
    "        \n",
    "mysents = tokenized[:2]\n",
    "process_sentences_regex(mysents, chunk_gram)"
   ]
  },
  {
   "cell_type": "markdown",
   "metadata": {},
   "source": [
    "This means we're removing one or more verbs, prepositions, determiners, or the word 'to'.\n",
    "\n",
    "    }<VB.?|IN|DT|TO>+{"
   ]
  },
  {
   "cell_type": "markdown",
   "metadata": {},
   "source": [
    "### Named entity recognition"
   ]
  },
  {
   "cell_type": "code",
   "execution_count": 32,
   "metadata": {
    "collapsed": false
   },
   "outputs": [
    {
     "name": "stdout",
     "output_type": "stream",
     "text": [
      "(S 31/CD ,/, 2006/CD ./.)\n",
      "(S\n",
      "  (FACILITY White/NNP)\n",
      "  (ORGANIZATION House/NNP)\n",
      "  photo/NN\n",
      "  by/IN\n",
      "  (PERSON Eric/NNP)\n",
      "  DraperEvery/NNP\n",
      "  time/NN\n",
      "  I/PRP\n",
      "  'm/VBP\n",
      "  invited/JJ\n",
      "  to/TO\n",
      "  this/DT\n",
      "  rostrum/NN\n",
      "  ,/,\n",
      "  I/PRP\n",
      "  'm/VBP\n",
      "  humbled/VBN\n",
      "  by/IN\n",
      "  the/DT\n",
      "  privilege/NN\n",
      "  ,/,\n",
      "  and/CC\n",
      "  mindful/NN\n",
      "  of/IN\n",
      "  the/DT\n",
      "  history/NN\n",
      "  we/PRP\n",
      "  've/VBP\n",
      "  seen/VBN\n",
      "  together/RB\n",
      "  ./.)\n",
      "(FACILITY White/NNP)\n",
      "(ORGANIZATION House/NNP)\n",
      "(PERSON Eric/NNP)\n"
     ]
    }
   ],
   "source": [
    "train_text = state_union.raw(\"2005-GWBush.txt\")\n",
    "test_text = state_union.raw(\"2006-GWBush.txt\")\n",
    "custom_sent_tokenizer = PunktSentenceTokenizer(train_text)\n",
    "tokenized = custom_sent_tokenizer.tokenize(test_text)\n",
    "\n",
    "def process_sentences_ne(sents, ne_filter='NE', binary=True):\n",
    "    \"\"\"This function finds named entities in sentences by tokenizing\n",
    "       them into words, labeling the parts of speech (POS tags) and\n",
    "       chunking by named entities.\n",
    "       \n",
    "       Parameters\n",
    "       ----------\n",
    "       \n",
    "       sents : list of str\n",
    "           List of sentences pre-tokenized\n",
    "       \n",
    "       ne_filter : str\n",
    "           String to filter out the named entities by their tag which\n",
    "           is either None or 'NE'\n",
    "           \n",
    "       binary : bool\n",
    "          True or False.  Indicates whether to tag by simply 'NE' (True)\n",
    "          or indicate the class of the named entity (False).\n",
    "          \n",
    "       Returns\n",
    "       -------\n",
    "       \n",
    "       No return value.\n",
    "       \n",
    "    \"\"\"\n",
    "    for sent in sents:\n",
    "        # Tokenize by word and get POS tags for each\n",
    "        words = nltk.word_tokenize(sent)\n",
    "        tagged = nltk.pos_tag(words)\n",
    "        # Extract named entities\n",
    "        named_ent = nltk.ne_chunk(tagged, binary=binary)\n",
    "        if ne_filter is not None:\n",
    "            subtreed = named_ent.subtrees(filter=lambda t: t.label() == ne_filter)\n",
    "        else:\n",
    "            subtreed = named_ent.subtrees()\n",
    "        for subtree in subtreed:\n",
    "            print(subtree)\n",
    "        \n",
    "        \n",
    "mysents = tokenized[5:7]\n",
    "process_sentences_ne(mysents, ne_filter=None, binary=False)"
   ]
  },
  {
   "cell_type": "markdown",
   "metadata": {},
   "source": [
    "**NE Type and Examples (returned when binary is set to False):**\n",
    "\n",
    "```\n",
    "ORGANIZATION - Georgia-Pacific Corp., WHO\n",
    "PERSON - Eddy Bonte, President Obama\n",
    "LOCATION - Murray River, Mount Everest\n",
    "DATE - June, 2008-06-29\n",
    "TIME - two fifty a m, 1:30 p.m.\n",
    "MONEY - 175 million Canadian Dollars, GBP 10.40\n",
    "PERCENT - twenty pct, 18.75 %\n",
    "FACILITY - Washington Monument, Stonehenge\n",
    "GPE - South East Asia, Midlothian\n",
    "```"
   ]
  },
  {
   "cell_type": "markdown",
   "metadata": {},
   "source": [
    "### Lemmatizing\n",
    "\n",
    "A very similar operation to stemming is called lemmatizing. The major difference between these is, as you saw earlier, stemming can often create non-existent words, whereas lemmas are actual words.\n",
    "\n",
    "Using from `nltk.stem import WordNetLemmatizer`."
   ]
  },
  {
   "cell_type": "code",
   "execution_count": 94,
   "metadata": {
    "collapsed": false
   },
   "outputs": [
    {
     "name": "stdout",
     "output_type": "stream",
     "text": [
      "tabbies ->  tabby\n",
      "cacti ->  cactus\n",
      "better ->  good\n",
      "best ->  best\n",
      "ran ->  ran\n",
      "ran ->  run\n"
     ]
    }
   ],
   "source": [
    "lemmatizer = WordNetLemmatizer()\n",
    "print('tabbies -> ', lemmatizer.lemmatize('tabbies'))\n",
    "print('cacti -> ', lemmatizer.lemmatize('cacti'))\n",
    "print('better -> ', lemmatizer.lemmatize('better', pos='a'))\n",
    "print('best -> ', lemmatizer.lemmatize('best', pos='a'))\n",
    "print('ran -> ', lemmatizer.lemmatize('ran'))\n",
    "print('ran -> ', lemmatizer.lemmatize('ran', pos='v'))"
   ]
  },
  {
   "cell_type": "markdown",
   "metadata": {},
   "source": [
    "### Intro to the corpora"
   ]
  },
  {
   "cell_type": "code",
   "execution_count": 72,
   "metadata": {
    "collapsed": false
   },
   "outputs": [
    {
     "name": "stdout",
     "output_type": "stream",
     "text": [
      "[   '[The King James Bible]\\n'\n",
      "    '\\n'\n",
      "    'The Old Testament of the King James Bible\\n'\n",
      "    '\\n'\n",
      "    'The First Book of Moses:  Called Genesis\\n'\n",
      "    '\\n'\n",
      "    '\\n'\n",
      "    '1:1 In the beginning God created the heaven and the earth.',\n",
      "    '1:2 And the earth was without form, and void; and darkness was upon\\n'\n",
      "    'the face of the deep.',\n",
      "    'And the Spirit of God moved upon the face of the\\nwaters.']\n"
     ]
    }
   ],
   "source": [
    "sample_text = gutenberg.raw(\"bible-kjv.txt\")\n",
    "tokenized = sent_tokenize(sample_text)\n",
    "pp.pprint(tokenized[:3])"
   ]
  },
  {
   "cell_type": "markdown",
   "metadata": {},
   "source": [
    "For a list of the corpora see http://www.nltk.org/book/ch02.html#tab-corpora."
   ]
  },
  {
   "cell_type": "markdown",
   "metadata": {},
   "source": [
    "### WordNet\n",
    "\n",
    "WordNet is a lexical database for the English language, which was created by Princeton, and is part of the NLTK corpus.\n",
    "\n",
    "You can use WordNet alongside the NLTK module to find the meanings of words, synonyms, antonyms, and more. "
   ]
  },
  {
   "cell_type": "code",
   "execution_count": 82,
   "metadata": {
    "collapsed": false
   },
   "outputs": [
    {
     "name": "stdout",
     "output_type": "stream",
     "text": [
      "plan.n.01\n",
      "plan\n",
      "a series of steps to be carried out or goals to be accomplished\n",
      "['they drew up a six-step plan', 'they discussed plans for a new bond issue']\n"
     ]
    }
   ],
   "source": [
    "syns = wordnet.synsets(\"program\")\n",
    "# Synset\n",
    "synset = syns[0]\n",
    "print(synset.name())\n",
    "# Just the word\n",
    "print(synset.lemmas()[0].name())\n",
    "# Definition\n",
    "print(synset.definition())\n",
    "# Examples\n",
    "print(synset.examples())"
   ]
  },
  {
   "cell_type": "code",
   "execution_count": 90,
   "metadata": {
    "collapsed": false
   },
   "outputs": [
    {
     "name": "stdout",
     "output_type": "stream",
     "text": [
      "SYNONYMS:  {'salutary', 'honest', 'unspoilt', 'unspoiled', 'soundly', 'dependable', 'skilful', 'serious', 'well', 'adept', 'upright', 'trade_good', 'secure', 'effective', 'honorable', 'commodity', 'ripe', 'right', 'sound', 'skillful', 'estimable', 'in_effect', 'full', 'beneficial', 'safe', 'good', 'proficient', 'just', 'respectable', 'goodness', 'expert', 'in_force', 'practiced', 'thoroughly', 'dear', 'near', 'undecomposed'}\n",
      "ANTONYMS:  {'bad', 'badness', 'evilness', 'evil', 'ill'}\n"
     ]
    }
   ],
   "source": [
    "_synsets = wordnet.synsets('good')\n",
    "synonyms = []\n",
    "antonyms = []\n",
    "\n",
    "for syn in _synsets:\n",
    "    for l in syn.lemmas():\n",
    "        synonyms.append(l.name())\n",
    "        ants = l.antonyms()\n",
    "        if ants:\n",
    "            antonyms.append(ants[0].name())\n",
    "            \n",
    "print('SYNONYMS: ', set(synonyms))\n",
    "print('ANTONYMS: ', set(antonyms))"
   ]
  },
  {
   "cell_type": "markdown",
   "metadata": {},
   "source": [
    "Next, we can also easily use WordNet to compare the similarity of two words and their tenses, by incorporating the Wu and Palmer method for semantic related-ness."
   ]
  },
  {
   "cell_type": "code",
   "execution_count": 97,
   "metadata": {
    "collapsed": false
   },
   "outputs": [
    {
     "name": "stdout",
     "output_type": "stream",
     "text": [
      "0.9090909090909091\n"
     ]
    }
   ],
   "source": [
    "w1 = wordnet.synset('ship.n.01')\n",
    "w2 = wordnet.synset('boat.n.01')\n",
    "print(w1.wup_similarity(w2))"
   ]
  },
  {
   "cell_type": "code",
   "execution_count": 98,
   "metadata": {
    "collapsed": false
   },
   "outputs": [
    {
     "name": "stdout",
     "output_type": "stream",
     "text": [
      "0.5263157894736842\n"
     ]
    }
   ],
   "source": [
    "w1 = wordnet.synset('ship.n.01')\n",
    "w2 = wordnet.synset('sail.n.01')\n",
    "print(w1.wup_similarity(w2))"
   ]
  },
  {
   "cell_type": "code",
   "execution_count": 99,
   "metadata": {
    "collapsed": false
   },
   "outputs": [
    {
     "name": "stdout",
     "output_type": "stream",
     "text": [
      "0.6956521739130435\n"
     ]
    }
   ],
   "source": [
    "w1 = wordnet.synset('ship.n.01')\n",
    "w2 = wordnet.synset('truck.n.01')\n",
    "print(w1.wup_similarity(w2))"
   ]
  },
  {
   "cell_type": "code",
   "execution_count": 100,
   "metadata": {
    "collapsed": false
   },
   "outputs": [
    {
     "name": "stdout",
     "output_type": "stream",
     "text": [
      "0.32\n"
     ]
    }
   ],
   "source": [
    "w1 = wordnet.synset('ship.n.01')\n",
    "w2 = wordnet.synset('cat.n.01')\n",
    "print(w1.wup_similarity(w2))"
   ]
  },
  {
   "cell_type": "markdown",
   "metadata": {},
   "source": [
    "### Text classification and converting words to features"
   ]
  },
  {
   "cell_type": "code",
   "execution_count": null,
   "metadata": {
    "collapsed": true
   },
   "outputs": [],
   "source": [
    "# In each category (pos/neg) take all file ids (reviews), and\n",
    "# store the tokenized words for that file id along with\n",
    "# pos/neg label:\n",
    "documents = [(list(movie_reviews.words(fileid)), category)\n",
    "             for category in movie_reviews.categories()\n",
    "             for fileid in movie_reviews.fileids(category)]\n",
    "\n",
    "# Shuffle the documents for training and testing\n",
    "random.shuffle(documents)"
   ]
  },
  {
   "cell_type": "code",
   "execution_count": 105,
   "metadata": {
    "collapsed": false
   },
   "outputs": [
    {
     "name": "stdout",
     "output_type": "stream",
     "text": [
      "(['after', 'seeing', 'blaze', 'and', 'driving', 'miss', 'daisy', ',', 'i', 'was', 'ready', 'for', 'some', 'mindless', 'fun', '--', 'oh', ',', 'maybe', 'something', 'like', 'tango', '&', 'cash', '.', 'maybe', 'not', '!', 'mindless', 'fun', 'is', 'one', 'thing', ',', 'but', 'brain', '-', 'dead', 'slop', 'is', 'another', 'matter', 'altogether', '.', 'tango', '&', 'cash', 'has', '\"', 'lowest', 'common', 'denominator', '\"', 'written', 'all', 'over', 'it', '.', 'the', 'movie', 'stars', 'sylvester', 'stallone', 'and', 'kurt', 'russell', 'as', 'rival', 'undercover', 'cops', 'in', 'l', '.', 'a', '.', 'russell', 'plays', 'cash', ',', 'a', 'reckless', 'slob', 'who', 'dresses', 'in', 'jeans', 'and', 'tee', 'shirts', '.', 'stallone', 'plays', 'tango', ',', 'a', 'wealthy', 'investor', 'who', 'works', 'on', 'the', 'force', 'strictly', 'for', 'the', 'thrill', 'of', 'it', ';', 'he', 'doesn', \"'\", 't', 'need', 'the', 'money', '.', 'in', 'an', 'effort', 'to', 'change', 'his', 'image', ',', 'stallone', 'goes', 'for', 'a', 'yuppie', ',', 'gq', 'look', 'in', 'the', 'film', ',', 'wearing', 'spectacles', 'and', 'three', 'piece', 'suits', '.', 'the', 'two', 'detectives', 'reluctantly', 'become', 'partners', 'after', 'they', 'are', 'framed', 'for', 'murder', 'and', 'have', 'to', 'break', 'out', 'of', 'prison', 'to', 'clear', 'their', 'names', '.', 'tango', '&', 'cash', 'is', 'unbearably', 'noisy', '.', 'for', 'starters', ',', 'there', \"'\", 's', 'harold', 'faltermeyer', \"'\", 's', 'annoying', 'synthesized', 'score', ',', 'which', 'gets', 'old', 'after', 'four', 'notes', '.', 'to', 'make', 'matters', 'worse', ',', 'the', 'filmmakers', 'seem', 'to', 'think', 'that', 'when', 'it', 'comes', 'to', 'loud', 'explosions', 'and', 'screeching', 'cars', ',', 'the', 'more', 'the', 'merrier', '.', 'in', 'fact', ',', 'the', 'movie', 'begins', 'with', 'not', 'one', 'but', 'two', 'car', 'chases', '.', 'there', \"'\", 's', 'nothing', 'like', 'a', 'good', 'old', 'car', 'chase', 'to', 'introduce', 'the', 'characters', 'in', 'a', 'movie', '.', 'screenwriter', 'randy', 'feldman', \"'\", 's', 'brain', 'must', 'have', 'gone', 'to', 'mush', 'from', 'watching', 'too', 'many', 'cop', 'shows', 'on', 'tv', '.', 'his', 'shockingly', 'stupid', 'screenplay', 'undermines', 'anything', 'and', 'everything', 'the', 'movie', 'has', 'going', 'for', 'it', ',', 'such', 'as', 'stallone', \"'\", 's', 'efforts', 'to', 'convince', 'you', 'that', 'tango', 'is', 'an', 'intellectual', '.', 'in', 'a', 'movie', 'with', 'the', 'iq', 'level', 'of', 'an', 'amoeba', ',', 'even', 'a', 'great', 'actor', 'is', 'going', 'to', 'have', 'trouble', 'looking', 'intelligent', '--', 'and', 'stallone', 'is', 'no', 'lawrence', 'olivier', '.', 'it', \"'\", 's', 'hard', 'to', 'imagine', 'anyone', 'reading', 'feldman', \"'\", 's', 'script', 'and', 'thinking', ',', '\"', 'i', 'want', 'to', 'be', 'in', 'this', 'movie', '.', '\"', 'the', 'film', \"'\", 's', 'plot', 'doesn', \"'\", 't', 'have', 'one', 'original', 'bone', 'in', 'its', 'body', ',', 'and', '--', 'again', '--', 'you', 'have', 'to', 'point', 'your', 'finger', 'at', 'the', 'screenwriting', '.', 'feldman', \"'\", 's', 'story', 'line', 'succumbs', 'to', 'every', 'crime', 'thriller', 'cliche', 'in', 'the', 'book', ',', 'making', 'tango', '&', 'cash', 'altogether', 'generic', 'and', 'predictable', '.', 'they', 'simply', 'could', 'have', 'called', 'it', '\"', 'action', 'movie', '.', '\"', 'every', 'character', ',', 'every', 'twist', 'and', 'turn', ',', 'is', 'stolen', 'from', 'television', 'or', 'from', 'other', 'movies', '.', 'adding', 'insult', 'to', 'injury', ',', 'tango', '&', 'cash', 'is', 'about', 'as', 'believable', 'as', 'a', '\"', 'road', 'runner', '\"', 'cartoon', '.', 'action', 'movies', 'don', \"'\", 't', 'have', 'to', 'be', 'realistic', ',', 'but', 'they', 'should', 'absorb', 'you', 'enough', 'so', 'that', 'you', \"'\", 're', 'not', 'thinking', 'about', 'the', 'lack', 'of', 'realism', '.', 'the', 'only', 'artistic', 'aspect', 'of', 'tango', '&', 'cash', 'is', 'the', 'cinematography', '.', 'there', 'are', 'some', 'spectacular', 'shots', ',', 'especially', 'during', 'the', 'rainy', 'nighttime', 'prison', 'break', 'in', 'which', 'tango', 'and', 'cash', 'slide', 'to', 'safety', 'on', 'electrical', 'wires', '.', 'the', 'film', \"'\", 's', 'main', 'draw', 'is', 'the', 'chemistry', 'between', 'stallone', 'and', 'russell', '.', 'unfortunately', ',', 'their', 'relationship', 'rarely', 'progresses', 'past', 'macho', 'competition', 'as', 'they', 'endlessly', 'bicker', 'about', 'who', 'packs', 'more', 'meat', 'in', 'his', 'pants', '.', 'the', 'dialogue', 'consists', 'of', 'nothing', 'but', 'one', '-', 'liners', ',', 'and', 'consequently', 'the', 'attempts', 'at', 'character', 'development', 'are', 'embarrassing', '.', 'it', \"'\", 's', 'a', 'shame', 'because', 'with', 'a', 'workable', 'screenplay', ',', 'russell', 'and', 'stallone', 'could', 'have', 'turned', 'tango', '&', 'cash', 'into', 'a', 'charming', '\"', 'lethal', 'weaponesque', '\"', 'adventure', '.', 'tango', '&', 'cash', 'tries', 'to', 'maintain', 'a', 'light', 'tone', ',', 'and', 'you', 'do', 'laugh', 'about', 'once', 'every', 'five', 'minutes', '.', 'seeing', 'russell', 'in', 'drag', 'is', 'the', 'movie', \"'\", 's', 'funniest', 'moment', ',', 'but', 'you', 'probably', 'already', 'have', 'seen', 'it', 'in', 'the', 'commercials', '.', 'furthermore', ',', 'the', 'light', 'tone', 'does', 'not', 'sit', 'well', 'against', 'the', 'relentlessly', 'brutal', 'violence', '.', 'machine', 'guns', 'and', 'torture', 'generally', 'don', \"'\", 't', 'mix', 'well', 'with', 'comedy', '.', 'jack', 'palance', 'appears', 'in', 'tango', '&', 'cash', 'doing', 'what', 'he', 'does', 'best', ':', 'playing', 'a', 'sleazy', ',', 'conniving', 'villain', '.', 'his', 'character', ',', 'however', ',', 'is', 'run', '-', 'of', '-', 'the', '-', 'mill', ',', 'except', 'for', 'his', 'strange', 'obsession', 'with', 'mice', '.', 'like', 'many', 'movie', 'villains', ',', 'palance', 'likes', 'to', 'play', 'games', '.', 'in', 'fact', ',', 'he', 'sets', 'a', 'ridiculously', 'elaborate', 'trap', 'for', 'tango', 'and', 'cash', ',', 'a', 'trap', 'which', 'sends', 'the', 'two', 'detectives', 'to', 'prison', 'so', 'they', 'can', 'be', 'beaten', 'and', 'electrocuted', 'by', 'some', 'meanies', 'in', 'the', 'boiler', 'room', '.', 'you', 'have', 'to', 'wonder', 'why', 'palance', 'doesn', \"'\", 't', 'just', 'shoot', 'the', 'detectives', 'in', 'the', 'head', '!', 'the', 'story', 'would', 'crumble', 'if', 'any', 'of', 'the', 'characters', 'were', 'to', 'do', 'anything', 'intelligent', '.', 'teri', 'hatcher', 'plays', 'stallone', \"'\", 's', 'sister', 'and', 'russell', \"'\", 's', 'love', '-', 'interest', ',', 'and', 'she', 'is', 'just', 'as', 'pretty', 'as', 'can', 'be', '.', 'but', 'regrettably', ',', 'hatcher', \"'\", 's', 'acting', 'is', 'not', 'on', 'par', 'with', 'her', 'exceptional', 'beauty', '.', 'every', 'time', 'she', 'opens', 'her', 'mouth', ',', 'you', 'cringe', ';', 'corny', 'dialogue', 'and', 'atrocious', 'acting', 'are', 'always', 'a', 'fatal', 'combination', '.', 'there', \"'\", 's', 'really', 'very', 'little', ',', 'if', 'anything', ',', 'to', 'recommend', 'in', 'the', 'film', '.', 'and', ',', 'more', 'to', 'the', 'point', ',', 'tango', 'definitely', 'isn', \"'\", 't', 'worth', 'a', 'penny', 'of', 'your', 'cash', '--', 'so', 'don', \"'\", 't', 'bother', '.'], 'neg')\n"
     ]
    }
   ],
   "source": [
    "# First document in the list\n",
    "print(documents[0])\n",
    "\n",
    "# Make a list of all words, lowercase\n",
    "all_words = [w.lower() for w in movie_reviews.words()]"
   ]
  },
  {
   "cell_type": "code",
   "execution_count": 106,
   "metadata": {
    "collapsed": true
   },
   "outputs": [],
   "source": [
    "# Frequency distribution\n",
    "all_words = nltk.FreqDist(all_words)"
   ]
  },
  {
   "cell_type": "code",
   "execution_count": 110,
   "metadata": {
    "collapsed": false
   },
   "outputs": [
    {
     "name": "stdout",
     "output_type": "stream",
     "text": [
      "[(',', 77717), ('the', 76529), ('.', 65876), ('a', 38106), ('and', 35576), ('of', 34123), ('to', 31937), (\"'\", 30585), ('is', 25195), ('in', 21822), ('s', 18513), ('\"', 17612), ('it', 16107), ('that', 15924), ('-', 15595)]\n",
      "59\n"
     ]
    }
   ],
   "source": [
    "# Top 15 words\n",
    "print(all_words.most_common(15))\n",
    "\n",
    "# Count of a word\n",
    "print(all_words['cat'])"
   ]
  },
  {
   "cell_type": "code",
   "execution_count": 118,
   "metadata": {
    "collapsed": false
   },
   "outputs": [
    {
     "name": "stdout",
     "output_type": "stream",
     "text": [
      "{'investigations': False, 'lovemaker': False, 'stronger': False, 'palance': False, 'espousing': False, 'nationalism': False, 'universally': False, 'musketeer': False, 'murmur': False, 'hedaya': False, 'russell': False, 'wave': False, 'yossef': False, 'mid': False, 'maxine': False, 'hank': False, 'conspiratorial': False, 'unger': False, 'expressionist': False, 'fetish': False, 'eaddress': False, 'vidal': False, 'mnc': False, 'blizzard': False, 'ravished': False, 'deference': False, 'beams': False, 'thus': False, 'loeb': False, 'boss': False, 'corn': False, 'tornatore': False, 'proves': False, 'floundering': False, 'metaphorically': False, 'caesar': False, 'doubting': False, 'demise': False, 'discotheque': False, 'parent': False, 'twentysometyhings': False, 'retention': False, 'sybil': False, 'shaving': False, 'official': False, 'bergman': False, 'bong': False, 'expenses': False, 'sissy': False, 'penal': False, 'darnedness': False, 'tracy': False, 'toulouse': False, 'gears': False, 'dumbass': False, 'currents': False, 'shaw': False, 'diapers': False, 'memories': False, 'damsel': False, 'bb': False, 'capes': False, 'tuning': False, 'shagwell': False, 'campfest': False, 'incoherent': False, 'footed': False, 'yong': False, 'flushing': False, 'madonna': False, 'livelier': False, 'keith': False, 'openness': False, 'whitehouse': False, 'defeating': False, 'salivate': False, 'voice': False, 'pushes': False, 'suffering': False, 'jaleel': False, 'foreseeable': False, 'frightfully': False, 'condensed': False, 'jimkendrick': False, 'adultery': False, 'pridefully': False, 'renowed': False, 'nietzsche': False, 'pursuit': False, 'euphoria': False, 'northam': False, 'olsson': False, 'interrotron': False, 'maybe': False, 'fashion': False, 'go': True, '1923': False, 'spattering': False, 'hots': False, 'sufferings': False, 'breakdown': False, 'cutaway': False, 'ramshackle': False, 'plantation': False, 'electronically': False, 'protector': False, 'shriek': False, 'obscene': False, 'mancuso': False, 'flocked': False, 'curing': False, 'turgidson': False, 'congratulates': False, 'wes': True, 'visiting': False, 'coalesce': False, 'prepared': False, 'snatched': False, 'trademarks': False, 'foregone': False, 'centerfold': False, 'inhalants': False, 'homophobe': False, 'lorne': False, 'whelming': False, 'impoverishment': False, 'stammers': False, 'buddying': False, 'dans': False, 'rebels': False, 'comprised': False, 'eisenberg': False, 'subplots': False, 'thoughtfully': False, 'enforces': False, 'bafflingly': False, 'boban': False, 'relying': False, 'lizards': False, 'screenwriterese': False, 'tarzan': False, 'interviewing': False, 'commodus': False, 'surrealist': False, 'innocent': False, 'spock': False, 'cagey': False, 'sounded': False, 'toenail': False, 'cluelessness': False, 'bludgeoning': False, 'stringy': False, 'bury': False, 'virginie': False, 'interminably': False, 'abduction': False, 'wino': False, 'block': False, 'cusswords': False, 'sisco': False, 'gaga': False, 'tenacious': False, 'agitated': False, 'embellished': False, 'zhivago': False, 'beavis': False, 'chalk': False, 'pfarrer': False, 'shares': False, 'meal': False, 'whimpers': False, 'crawler': False, 'straighten': False, 'sorted': False, 'furry': False, 'liberate': False, 'narrowly': False, 'lunacy': False, 'reciting': False, 'wary': False, 'stars': False, 'kamikaze': False, 'swastica': False, 'masterminding': False, 'jolting': False, 'flown': False, 'cecil': False, 'exclusively': False, 'murmuring': False, 'hewson': False, 'progeny': False, 'persuading': False, 'chareau': False, 'vamping': False, 'magazine': False, 'minute': False, 'hunky': False, 'retrieves': False, 'consummating': False, 'kinka': False, 'residuals': False, 'edmunds': False, 'lilianna': False, 'settlers': False, 'hypnotic': False, 'harlin': False, 'tightness': False, 'treasure': False, 'downright': False, 'correspondence': False, 'justifying': False, 'delved': False, 'laboring': False, 'certainly': False, 'sheng': False, 'snorkle': False, 'evolutionary': False, 'anyhow': False, 'tasks': False, 'silliest': False, 'deliberation': False, 'preservation': False, 'desmond': False, 'comic': False, 'improves': False, 'hairstylist': False, 'impartially': False, 'holographic': False, 'jordans': False, 'masala': False, 'banzai': False, 'niceties': False, 'mower': False, 'swap': False, 'woman': False, 'unwillingly': False, 'argo': False, 'weaker': False, 'eartha': False, 'wrongheaded': False, 'winks': False, 'portraying': False, 'reigned': False, 'disconnecting': False, 'spate': False, 'tampered': False, 'impregnating': False, 'caravan': False, 'nitty': False, 'breckin': False, 'scoured': False, 'wastelands': False, 'dana': False, 'reconstruction': False, 'fryer': False, 'mins': False, 'surfaced': False, 'cooperate': False, 'scanners': False, 'disconnect': False, 'hatchets': False, 'jack': False, 'torpedoes': False, 'debuted': False, 'painterly': False, 'bingo': False, 'mourning': False, 'curvier': False, 'downpours': False, 'mythology': False, 'collins': False, 'herald': False, 'naughty': False, 'amateurism': False, 'lecture': False, 'expirating': False, 'eludes': False, 'ross': False, 'carrier': False, 'lodgerley': False, 'unneccesary': False, 'regretfully': False, 'lookalike': False, 'gorier': False, 'overtly': False, 'accounted': False, 'frewer': False, 'helpless': False, 'approachment': False, '_more_': False, 'whisk': False, 'rockwell': False, 'handled': False, 'mishap': False, 'demarco': False, 'healed': False, 'toasts': False, 'agutter': False, 'limb': False, 'sweetens': False, 'id4': False, 'digital': False, 'tug': False, 'outcast': False, 'unsatisying': False, 'goofiness': False, 'dynamites': False, 'forger': False, 'vivian': False, 'immortals': False, 'incorrect': False, 'apply': False, 'ishibashi': False, 'tombstone': False, 'hang': False, 'revolt': False, 'dicaprip': False, 'satire': False, 'whack': False, 'padawan': False, 'akiko': False, 'egotistical': False, 'the': True, 'thoughtful': False, 'churned': False, 'prop': False, 'afer': False, 'disaffected': False, 'toeing': False, 'blacker': False, 'repel': False, 'colonist': False, 'barren': False, 'leone': False, 'armed': False, 'naps': False, 'singular': False, 'passage': False, 'wayyyy': False, 'paunchy': False, 'witnessing': False, 'widespread': False, 'dosen': False, 'ius': False, 'sze': False, 'terrore': False, 'establishes': False, 'cro': False, 'barn': False, 'bellbottoms': False, 'independece': False, 'buds': False, 'wrenching': False, 'casserole': False, 'charismatic': False, 'charts': False, 'lisbon': False, 'emblematic': False, 'loopy': False, 'duality': False, 'horned': False, 'humphrey': False, 'lenser': False, 'make': True, 'zeta': False, 'electoral': False, 'projected': False, 'jetliners': False, 'tawdriness': False, 'archetype': False, 'glamorized': False, 'pony': False, '108': False, 'mpd': False, 'centers': False, 'du': False, 'superstitions': False, 'grooving': False, 'wopr': False, 'eyeroll': False, 'pistols': False, 'bulworth': False, 'romanctic': False, 'beethoven': False, 'tracheotomy': False, 'groucho': False, 'maddened': False, 'homeworld': False, 'bastardised': False, 'consequently': False, 'whovians': False, 'abigail': False, 'transitional': False, 'itchy': False, 'lax': False, 'gays': False, 'disloyal': False, 'sodomized': False, 'dietz': False, 'swordfish': False, 'scudding': False, 'ditty': False, 'misinterprets': False, 'phillip': False, 'publisher': False, 'manila': False, 'panoramas': False, 'gunk': False, 'worse': False, 'oskar': False, 'whispers': False, '701': False, 'curtailed': False, 'spectacularly': False, 'fatherly': False, 'canadian': False, 'review': True, 'farmboy': False, 'catatonia': False, 'defuse': False, 'shuckin': False, 'transference': False, 'inter': False, 'winifred': False, 'blandest': False, 'miscalculated': False, 'winona': False, 'spurting': False, 'chocolat': False, 'takeshi': False, 'cuarsn': False, 'investigators': False, '_but': False, 'lab': False, 'bribed': False, 'consulting': False, 'norma': False, 'afternoon': False, 'coups': False, 'index': False, 'parodying': False, 'wimp': False, 'seeds': False, 'agreement': False, 'pure': False, 'brasco': False, 'inconsequential': False, 'cartwright': False, 'starling': False, 'image': False, 'tossable': False, 'bewildered': False, 'venkman': False, 'glamor': False, 'snuffed': False, 'comedown': False, 'fidelity': False, 'unravel': True, 'gto': False, 'arli': False, 'narrators': False, 'yippee': False, 'idziak': False, 'dmx': False, 'wallets': False, 'mccullah': False, 'bedded': False, 'uphold': False, 'nobodies': False, 'b': False, 'priestley': False, '18': False, 'amenities': False, 'shaven': False, 'cohn': False, 'lecturing': False, 'vows': False, 'contemptible': False, 'budgets': False, 'engulf': False, 'sunglasses': False, 'scoundrels': False, 'removing': False, 'sigmoid': False, 'layered': False, 'defends': False, 'captivity': False, 'range': False, 'gleason': False, 'outburst': False, 'placating': False, 'enough': False, 'whipping': False, 'salesman': False, 'bueller': False, 'mercer': False, 'prove': False, 'hart': False, 'tomotoes': False, 'competent': False, 'redux': False, 'navigated': False, 'gossipy': False, 'wing': False, 'disappeared': False, 'la': False, 'sleeper': False, 'bounding': False, 'stump': False, 'pill': False, 'dreamworld': False, 'oasis': False, 'whould': False, 'reign': False, 'xavier': False, 'upn': False, 'grunting': False, 'physical': False, 'counterbalance': False, 'waltzes': False, 'doubts': False, 'scaling': False, 'droogs': False, 'cremet': False, 'upstaged': False, 'spine': False, 'overtones': False, 'multidimensionality': False, 'larceny': False, 'readily': False, 'palatable': False, 'caro': False, 'stan': False, 'meritorious': False, 'ramen': False, 'moroder': False, 'pumma': False, 'natacha': False, 'mutation': False, 'ensue': False, 'luminous': False, 'oxymoron': False, 'gump': False, 'spores': False, 'tod': False, 'colonization': False, 'uhhhm': False, 'perspectives': False, 'elk': False, 'substituted': False, 'stems': False, 'bogg': False, 'rea': False, 'base': False, 'shoddier': False, 'earthquake': False, 'arsenic': False, 'engagement': False, 'clocking': False, 'creaky': False, 'networks': False, 'stewart': False, 'mould': False, 'noxious': False, 'mews': False, 'turd': False, 'meditative': False, 'au': False, 'creative': False, 'ishioka': False, 'quests': False, 'flynn': False, 'granted': False, 'emmet': False, 'phelps': False, 'videos': False, 'slack': False, 'interpol': False, 'olden': False, 'existed': False, 'meld': False, 'quart': False, 'tried': False, 'publishes': False, 'authoritarian': False, 'approachable': False, 'cicely': False, 'infomercial': False, 'catching': False, 'maimed': False, 'pesudo': False, 'geek': False, '2am': False, 'iroquois': False, 'setup': False, 'duffel': False, 'toning': False, 'arrow': True, 'bible': False, 'verma': False, 'bop': False, 'views': False, 'neandrathal': False, 'grossie': False, 'writes': False, '62': False, 'malone': False, 'streaking': False, 'mounting': False, 'rate': False, 'trillions': False, 'discerned': False, 'comforting': False, 'volker': False, 'marijo': False, 'corresponded': False, 'hello': False, 'unclear': False, 'grades': False, 'secular': False, '1970': False, 'outrun': False, 'bresslaw': False, 'reinforcing': False, 'existentialist': False, 'cleaners': False, 'abortive': False, 'devoid': False, 'relativity': False, 'ogden': False, 'philippe': False, 'surveilance': False, 'slippery': False, 'partake': False, 'trawls': False, 'scatology': False, 'fujioka': False, 'captive': False, 'glencoe': False, 'moor': False, 'triad': False, 'devastingly': False, 'owe': False, 'riddler': False, 'holzbog': False, 'fade': False, 'baby': False, 'felliniesque': False, 'crusade': False, 'acquisition': False, 'tagawa': False, 'humiliating': False, '20': True, 'impoverished': False, 'exiled': False, 'espadrilles': False, 'seminary': False, 'benefited': False, 'gazon': False, 'kunz': False, 'erupted': False, 'rebelled': False, 'frail': False, 'kiberlain': False, 'anxiously': False, 'wane': False, 'hiroyuki': False, 'severed': False, 'dryburgh': False, 'intimacy': False, 'jaunt': False, 'brashly': False, 'angelina': False, 'object': False, 'stoltz': False, 'aykroyd': False, 'shambles': False, 'serena': False, 'grays': False, 'trumping': False, 'approximate': False, 'behaved': False, 'mchale': False, 'pencil': False, 'screenplay': False, 'friggin': False, 'trivialize': False, 'editor': False, 'facilitates': False, 'skunk': False, 'missus': False, 'attractiveness': False, 'transplant': False, 'mortizen': False, 'dmv': False, 'stoops': False, 'babaloo': False, 'villard': False, 'glimpses': False, 'santa': False, 'tremendously': False, 'cad': False, 'primate': False, 'burp': False, 'reports': False, 'eagle': False, 'broadside': False, 'chiming': False, 've': True, 'admitting': False, 'busybody': False, 'carriage': False, 'rollerblades': False, 'technician': False, 'backroads': False, 'civil': False, 'refrigerates': False, 'honda': False, 'publish': False, 'beth': False, 'adepts': False, 'roddenberry': False, 'intrusive': False, 'mcgillis': False, 'hartnett': False, 'rica': False, 'sleepwalk': False, 'angrier': False, 'maroon': False, 'boyd': False, 'quandary': False, 'shred': False, 'tour': False, 'overused': False, 'heal': False, 'epilepsy': False, '_the_broadway_musical_': False, 'obviously': True, 'prodigal': False, 'nanny': False, 'bigwigs': False, 'nanook': False, '_can': False, 'sciorra': False, 'ermey': False, 'deputy': False, 'kentucky': False, 'mississippi': False, 'power': False, 'maury': False, 'filmgoing': False, 'resultant': False, 'visited': False, 'east': False, 'pratfalls': False, 'writers': False, 'barcode': False, '27': False, 'acceptable': False, 'multiplex': False, 'housekeeping': False, 'haas': False, 'aristocrat': False, 'satirized': False, 'buffy': False, 'similarities': False, 'breillat': False, 'yon': False, 'randomly': False, 'swansong': False, 'covering': False, '_knock_off_': False, 'rennie': False, 'transmission': False, 'advance': False, 'languidly': False, 'overrun': False, 'thermians': False, 'confers': False, 'entrails': False, 'distinctions': False, 'mirren': False, 'pageant': False, 'tapping': False, 'uhf': False, 'tornado': False, 'corbin': False, 'lindo': False, 'skies': False, 'marginally': False, 'flatly': False, 'andy': False, 'saville': False, 'picturesque': False, 'dade': False, 'midwestern': False, 'sawalha': False, 'demystification': False, 'bullcrap': False, 'hashish': False, 'shawn': False, 'branched': False, 'briefly': False, 'vikram': False, 'likely': False, 'neutrality': False, 'pimple': False, 'update': False, 'strategically': False, 'groundbreaking': False, 'urban': False, 'betrayals': False, 'milliken': False, 'gilpin': False, 'segments': False, 'azaria': False, 'spoilsport': False, '_54_': False, 'trophy': False, 'wittier': False, 'december': False, 'seku': False, 'notre': False, 'clairvoyant': False, 'disjointment': False, 'assimilating': False, 'they': True, 'edelman': False, 'smooth': False, 'whale': False, 'chewbacca': False, 'revisions': False, 'ismael': False, 'museum': False, 'ga': False, 'choreography': False, 'hardy': False, 'fashionable': False, 'admitedly': False, 'dubois': False, 'honorary': False, 'sadist': False, 'weirdoes': False, 'march': False, 'sink': False, 'hitters': False, 'buena': False, 'wakes': False, 'battlefields': False, 'radio': False, 'cottage': False, 'hooey': False, 'riiiiight': False, 'foreheads': False, 'disproves': False, 'weathers': False, 'inferior': False, 'quixotic': False, 'keegan': False, 'holmes': False, 'bava': False, 'councilmembers': False, 'coined': False, 'larter': False, 'pro': False, 'sexless': False, 'cheapie': False, 'oily': False, 'befitting': False, 'holidaygoers': False, 'dombasle': False, 'reset': False, 'bopping': False, 'saracastic': False, 'everybody': False, 'colorless': False, 'unstable': False, 'becker': False, 'whirry': False, 'drowned': False, 'slides': False, '_h20_': False, 'guttural': False, 'translating': False, 'father': False, 'rubick': False, 'let': False, 'replica': False, 'loudmouthed': False, 'oft': False, 'retires': False, 'striving': False, 'payment': False, 'jurgen': False, 'manchurian': False, 'overdubbed': False, 'apprenticeship': False, 'faint': False, 'prescient': False, 'smeared': False, 'unending': False, 'interpersonal': False, 'muck': False, 'users': False, 'protgaonist': False, 'restatement': False, 'volunteering': False, 'distorted': False, 'irritated': False, 'disilusioned': False, 'treacly': False, 'inquisitive': False, 'camouflage': False, 'clothing': False, 'alerted': False, 'askew': False, 'kinda': False, 'displaced': False, 'charlotte': False, 'regardless': False, 'good': True, 'banjo': False, 'terrors': False, 'etiquette': False, 'head': True, 'titillation': False, '_armageddon_': False, 'figueras': False, 'portion': False, 'grafted': False, 'identification': False, 'obdurate': False, 'mild': False, 'chastising': False, 'jivin': False, 'bandits': False, 'cass': False, 'who': True, '_shaft': False, 'wbn': False, 'hudgeons': False, 'homoerotic': False, 'tally': False, 'gambon': False, 'bandaras': False, 'moustached': False, 'rock': False, 'broker': False, 'welder': False, 'valiant': False, '_all_': False, 'brogue': False, 'senate': False, 'plots': False, 'conjunction': False, 'cheapens': False, 'franz': False, 'tasted': False, 'haze': False, 'flynt': False, 'graces': False, 'nahon': False, '=======================': False, 'braided': False, 'fields': False, 'restored': False, 'anton': False, 'melodrama': False, '1926': False, 'populate': False, 'rambunctious': False, 'promiscuous': False, 'helpfulness': False, 'assistants': False, 'celestial': False, 'watering': False, 'bunyan': False, 'voizin': False, 'debuts': False, 'turntables': False, 'deuteronomy': False, 'nbsp': False, 'faltermeyer': False, 'sewer': False, 'mussolini': False, 'hansel': False, 'trundle': False, 'coinage': False, 'milano': False, 'monastery': False, 'disruption': False, 'laughs': False, 'porches': False, 'tierney': False, 'unfortunately': False, 'dorff': False, 'cormack': False, 'join': False, 'bewitched': False, 'last': False, 'prep': False, 'potty': False, 'joanou': False, 'requests': False, 'poses': False, 'dreary': False, 'foreshadow': False, 'frequency': False, 'desperados': False, 'wh': False, 'too': True, 'strychnine': False, 'poking': False, 'savings': False, 'earthling': False, 'shakur': False, 'popularity': False, 'assess': False, 'reinforced': False, 'grit': False, 'looney': False, 'frothing': False, 'regails': False, 'catastrophic': False, 'twin': False, 'emptor': False, 'hitches': False, 'stridency': False, 'astounded': False, 'churning': False, 'accompanied': False, 'akira': False, 'whitechapel': False, 'vondie': False, 'hyam': False, 'overcooked': False, 'uncle': False, 'hag': False, 'sims': False, 'exam': False, 'expiring': False, 'bachmann': False, 'contradicting': False, 'cropped': False, 'youths': False, 'estates': False, 'beaver_': False, 'villainy': False, 'thal': False, 'monuments': False, 'nuclear': False, 'plummets': False, 'pickers': False, 'mumbling': False, 'contingency': False, 'tampons': False, 'garden': False, 'negates': False, 'depressingly': False, 'inanimate': False, 'sandler': False, 'officials': False, 'tote': False, 'twinkling': False, 'leelee': False, 'majors': False, 'ferries': False, 'complaint': False, 'curling': False, 'presumption': False, 'gifts': False, 'punchlines': False, 'heidi': False, 'humiliation': False, 'incomprehensibly': False, 'toninho': False, 'vapid': False, 'labels': False, 'euclidean': False, 'resigned': False, 'hatami': False, 'destabilize': False, 'garfield': False, 'libel': False, 'feats': False, 'cleophus': False, '36th': False, 'zealot': False, 'vigil': False, 'specfically': False, 'campily': False, 'hired': False, 'stagner': False, 'moloney': False, 'undeterring': False, 'fraction': False, 'fudge': False, 'argonautica': False, 'wittily': False, 'kareem': False, 'portrayal': False, 'projectioner': False, 'riot': False, 'fearest': False, 'plenty': False, 'outdid': False, 'successfully': False, 'daughters': False, 'shortages': False, 'carry': False, 'barrage': False, 'postponed': False, 'association': False, 'find': True, 'sisters': False, 'yeeeeah': False, 'cryogenically': False, 'byrne': False, 'reunions': False, 'copeland': False, 'refunds': False, 'matthew': False, 'glowering': False, 'celine': False, 'undoubtably': False, 'golfballs': False, 'rozencrantz': False, 'mtv': False, 'transformed': False, 'luis': False, 'stuff': False, 'billie': False, 'pixote': False, 'spacious': False, 'weekened': False, 'punctuates': False, 'constricted': False, 'church': True, 'eyeballs': False, 'tussle': False, 'documentarians': False, 'mueller': False, 'transvestite': False, 'blacksmith': False, 'demeaning': False, 'bloated': False, 'rapier': False, 'h': False, 'firecrackers': False, 'landmark': False, 'probgram': False, 'goodbye': False, 'orchestral': False, 'gumshoe': False, 'cracks': False, 'selleck': False, 'grudging': False, 'blistering': False, 'bukater': False, 'revitalizing': False, 'heros': False, 'effeminate': False, 'slime': False, '16th': False, 'leaguers': False, 'lowest': False, 'classroom': False, '50000': False, 'barest': False, 'outsider': False, 'musicals': False, 'jarman': False, 'typcast': False, 'shook': False, 'juice': False, 'innately': False, 'nsa': False, 'molestation': False, 'curse': False, 'cummin': False, 'scented': False, 'l': False, 'breaching': False, 'analyzation': False, 'dinosaur': False, 'been': True, 'competitive': False, 'blacks': False, 'exciting': False, 'treasured': False, 'cutsie': False, 'extraordinarily': False, 'exchanged': False, 'ragsdale': False, 'insiders': False, 'ascends': False, 'supermodel': False, 'reusing': False, 'handling': False, 'pissed': False, 'gilsig': False, 'jordon': False, 'alpha': False, 'bavarian': False, 'exits': False, 'admirers': False, 'levers': False, 'jia': False, 'mishmash': False, 'whoville': False, 'eric': False, 'amis': False, 'hosted': False, 'infrequently': False, 'rouen': False, 'courtroom': False, 'wiretaps': False, 'recording': False, 'joint': False, 'pronounces': False, 'frustrates': False, 'husband': False, 'copious': False, 'resourceful': False, 'girl': False, 'pitting': False, 'visible': False, 'manhunt': False, 'dien': False, 'personification': False, '2017': False, 'embeth': False, 'overseas': False, 'gingrich': False, 'xtdl': False, 'melted': False, 'stepmom': False, 'phoebe': False, 'stroll': False, 'confessor': False, 'impossibilty': False, 'responded': False, 'sleazepin': False, 'mankiewicz': False, 'brynner': False, 'initiate': False, 'kung': False, 'slashfest': False, 'kiss': False, 'likeness': False, 'zenith': False, 'nightclub': False, 'overwhelming': False, 'viard': False, 'naturalism': False, 'flamed': False, 'swallow': False, 'magnon': False, 'normally': False, 'mol': False, 'pee': False, 'antoine': False, 'cradles': False, 'kaige': False, 'injures': False, 'fetishistic': False, 'capable': False, 'tillman': False, 'richly': False, 'irons': False, 'eagerly': False, 'bloodsoaked': False, 'angel': False, 'evade': False, 'beeps': False, 'remained': False, 'unspoken': False, 'sopranos': False, 'crashed': False, 'benning': False, 'empathy': False, 'commitment': False, 'peri': False, 'rift': False, 'demoliton': False, 'surmise': False, 'malick': False, 'loin': False, 'motherf': False, 'dami': False, 'appropriately': False, 'swamps': False, '102': False, 'pumped': False, '_arrrgh_': False, 'mangled': False, 'rejecting': False, 'fucks': False, 'threatned': False, 'these': True, 'countryside': False, 'nightie': False, 'deportee': False, 'abound': False, 'kumble': False, 'corniest': False, 'unexciting': False, 'its': True, 'oranges': False, 'serous': False, 'steep': False, 'institutes': False, 'kirby': False, 'carroll': False, 'aviator': False, 'referred': False, 'promptly': False, 'merle': False, 'tentacles': False, 'disorienting': False, 'rydain': False, 'metamorphosizes': False, 'winde': False, 'steel': False, 'publicity': False, 'yugoslavians': False, 'homcoming': False, 'kasalivich': False, 'steaminess': False, 'amateurish': False, 'forensics': False, 'savagery': False, 'alert': False, 'pornos': False, 'kirbys': False, 'psychiatrist': False, 'mortars': False, 'camping': False, 'pronunciation': False, 'struck': False, 'infinity': False, 'drip': False, 'ashton': False, 'filthy': False, 'attributed': False, 'briesewitz': False, 'gangbangers': False, 'chechik': False, '_48_hrs': False, 'affectation': False, 'shrills': False, 'foregrounds': False, 'inappropriate': False, 'lesson': False, 'whisperer': False, 'frees': False, 'effective': False, 'astronomer': False, 'connor': False, 'bernsen': False, 'tomfoolery': False, 'cesar': False, 'vacationing': False, 'squeal': False, 'disclosing': False, 'weaving': False, 'serenaded': False, 'woo': False, 'grizzly': False, 'trademarked': False, 'goldsman': False, 'rebhorn': False, 'venora': False, 'awakens': False, 'laila': False, 'ful': False, 'wickedly': False, 'affair': False, 'bothering': False, 'apology': False, 'hunt': False, 'gwyneth': False, 'breuer': False, 'deciding': False, 'offensive': False, 'langlet': False, 'teases': False, 'bearing': False, 'bloody': False, 'relay': False, 'looping': False, 'unashamed': False, 'betting': False, 'occassionally': False, '37': False, 'nor': False, 'disrobe': False, 'illnesses': False, 'repress': False, 'lefty': False, 'masked': False, 'noiresque': False, 'lois': False, 'picture': False, 'potency': False, 'innocently': False, 'currently': False, 'detached': False, 'fanaticism': False, 'clarence': False, 'poke': False, 'process': False, 'tightens': False, 'beheadings': False, 'buddhism': False, 'nominated': False, 'deformed': False, 'extend': False, 'loathes': False, 'sold': False, 'gobbles': False, 'strife': False, 'casseus': False, 'disappears': False, 'heard': False, 'excepting': False, 'intolerable': False, 'jeered': False, 'descendant': False, 'snide': False, 'magic_': False, 'hijacked': False, 'soviets': False, 'garnered': False, 'distinguishes': False, 'inlists': False, 'posey': False, 'disposable': False, 'dreck': False, 'uh': False, 'piercing': False, 'renditions': False, 'arcadia': False, 'secluded': False, 'excepts': False, 'scholarly': False, 'steamier': False, 'badham': False, 'parentless': False, 'track': False, 'woeful': False, 'minutely': False, 'predicament': False, 'gawking': False, 'straights': False, 'starts': True, 'realization': False, 'mildly': False, 'jewelry': False, 'inextricably': False, 'baddeley': False, 'characterisation': False, 'spoof': False, 'personalized': False, 'lotta': False, 'unshaven': False, 'raiment': False, 'billowing': False, 'burnhams': False, 'gourmet': False, 'convincing': False, 'details': False, 'predictable': False, 'sloppy': False, 'fly': False, 'unmercifully': False, 'closets': False, 'technological': False, 'gm': False, 'inconsistent': False, 'kept': False, 'literacy': False, 'dropped': False, 'rosalba': False, 'suffuse': False, 'ja': False, 'catches': False, 'smokes': False, 'airplane': False, 'degree': False, 'shyer': False, 'unsuccessfully': False, 'pickering': False, 'anyone': False, 'cuddy': False, 'ifans': False, 'scrapbook': False, 'uphill': False, 'seer': False, 'holism': False, 'ella': False, '1940': False, 'sprint': False, 'haygarth': False, 'material': False, 'letter': False, 'moran': False, 'solicit': False, 'illiteracy': False, 'thickly': False, 'analogue': False, 'vore': False, 'bahia': False, 'thade': False, 'tut': False, 'capra': False, 'isaac': False, 'forgives': False, 'granddaddy': False, 'months': False, 'purged': False, 'verhoven': False, 'irrevocably': False, 'deserved': False, 'instills': False, 'kodo': False, '_they': False, 'escadapes': False, 'educational': False, 'giggs': False, 'meschach': False, 'sequence': False, 'politcal': False, 'railroads': False, 'abilities': False, 'laded': False, 'shandling': False, 'fearless': False, 'vital': False, 'days': False, 'brainiac': False, 'jill': False, 'tylenol': False, 'carries': False, 'primordial': False, 'zealous': False, 'sleaziness': False, 'welcoming': False, 'tiles': False, 'winstone': False, 'nearby': False, 'highlight': False, 'mindel': False, 'torsos': False, 'silverstein': False, 'cheapskate': False, 'tues': False, 'detracts': False, 'like': True, 'mcgrath': False, 'meditations': False, 'craig': False, 'anette': False, 'perfect': False, 'dwellers': False, 'oceanographic': False, 'interupts': False, 'rockers': False, 'gangstas': False, 'belted': False, 'count': False, 'mckellan': False, 'goodfellas': False, 'wife': False, 'addy': False, 'incident': False, 'plus': False, 'strasser': False, 'suppression': False, 'mice': False, 'duplicate': False, 'profit': False, 'fiancee': False, 'worsened': False, 'reminisce': False, 'gradually': False, 'losing': False, 'institutionalized': False, 'acclimatize': False, 'godforsaken': False, 'nom': False, 'tangible': False, 'perfs': False, 'mindy': False, 'statesmen': False, 'bottom': True, 'stephen': False, 'austen': False, 'vinny': False, 'bulldozer': False, 'fakery': False, 'refusing': False, 'berth': False, 'ghastly': False, 'goregeous': False, 'flatter': False, 'cradle': False, 'yemeni': False, 'result': False, 'dismaying': False, 'suck': False, 'reek': False, 'silences': False, 'sky_': False, 'clearillusions': False, 'production': True, 'heald': False, 'husbands': False, 'underestimated': False, 'orgasms': False, 'niro': False, 'kidnapper': False, 'hawks': False, 'zinnemman': False, 'suffocating': False, 'knowledgeable': False, 'compassion': False, 'unchangeable': False, 'seduction': False, 'autonomous': False, 'busboy': False, 'tempestuous': False, 'trey': False, 'batmans': False, 'gish': False, 'kretschmann': False, 'british': False, '22': False, 'impact': False, 'clients': False, 'rifle': False, 'illusion': False, 'typical': False, 'ivana': False, 'gratuitous': False, 'bedazzled': False, 'necesary': False, 'dialogueless': False, 'addam': False, 'skew': False, 'buren': False, 'speakers': False, 'intercut': False, 'evangelista': False, 'grinds': False, 'sleeve': False, 'ancestral': False, 'serina': False, 'superstar': False, 'screechy': False, 'suarez': False, 'oreo': False, 'disconnects': False, 'jerri': False, 'heckerling': False, 'upping': False, 'installations': False, 'sign': False, 'firearms': False, 'crystal': False, 'robicheaux': False, 'olympia': False, 'animes': False, 'citizens': False, 'phenomenal': False, 'plummeting': False, 'sk': False, 'scarier': False, 'moguls': False, 'manic': False, 'launderer': False, 'plane': False, 'bomb': False, 'bradford': False, 'unneeded': False, 'sixteen': False, 'falter': False, 'cleverest': False, 'maps': False, 'story': False, 'simplistic': False, 'dickie': False, 'takes': False, 'bitch': False, 'baring': False, 'zoom': False, 'spherical': False, 'countryish': False, 'blander': False, 'cartoon': False, 'bes': False, 'vending': False, 'traction': False, 'prices': False, 'deflecting': False, 'unusually': False, 'dotty': False, 'cared': False, 'enfield': False, 'magma': False, 'buyer': False, 'yawn': False, 'okeday': False, 'clara': False, 'sod': False, 'bucking': False, 'apologizes': False, 'distended': False, 'farscial': False, 'backdoors': False, 'palmetto': False, 'invoked': False, 'brattish': False, 'siege': False, 'abrasive': False, 'adulterous': False, 'deveu': False, 'pontificate': False, 'intelligentsia': False, 'schizophrenia': False, 'fairfax': False, 'revitalize': False, 'atmospheric': False, 'fingerprints': False, 'dam': False, 'unpredictability': False, 'sunlit': False, 'haunting': False, 'marienbad': False, 'distracted': False, 'homey': False, 'loup': False, 'victoriously': False, 'bye': False, 'ilsa': False, '15th': False, 'trippier': False, 'weekend': False, 'hensley': False, 'garbed': False, 'incest': False, 'grabbed': False, 'piet': False, 'clearly': False, 'unemotional': False, '_saved_by_the_bell_': False, 'lucio': False, 'designers': False, 'salerno': False, 'twist': False, '2018': False, 'disarmingly': False, 'promiscuity': False, 'wheels': False, 'tcha': False, 'sagging': False, 'sela': False, 'scatological': False, 'heavier': False, 'sprints': False, 'backpedaling': False, 'offerings': False, 'starring': False, 'fights': False, 'everlasting': False, 'dickinson': False, 'fatalities': False, 'monumentally': False, 'takehiro': False, 'remand': False, 'machinists': False, 'walkers': False, 'waikiki': False, 'pack': False, 'cancels': False, 'evil': False, 'corresponding': False, 'fill': False, 'hinky': False, 'unnecessary': False, 'raskolnikov': False, 'pickett': False, 'mockingly': False, 'postman': False, 'awards': False, 'desires': False, 'sonya': False, 'chilly': False, 'flanery': False, 'sprinkle': False, 'expensive': False, 'transplanted': False, 'ehren': False, 'ghostface': False, 'quantities': False, 'watchdogs': False, 'alec': False, 'lutz': False, 'comet': False, 'ali': False, 'universality': False, 'hypochondriac': False, 'disjointedness': False, 'war': False, 'fiel': False, 'correlates': False, 'orange': False, 'yachting': False, 'cafe': False, 'resonated': False, 'storywise': False, 'parasitic': False, 'cent': False, 'heretofore': False, 'oddity': False, 'mortimer': False, 'hauteurs': False, 'seamlessly': False, 'schulman': False, 'lamely': False, 'raimi': False, 'design': False, 'defeats': False, 'spontaneous': False, 'fu': False, 'careers': False, 'scrounges': False, 'prosthetic': False, 'evaluation': False, 'sketches': False, 'marcia': False, 'twirling': False, 'plea': False, 'medic': False, 'outlawed': False, 'aside': False, 'checked': False, 'toes': False, 'paint': False, 'schindler': False, 'tend': False, 'perking': False, 'receiveth': False, 'serpico': False, 'talks': False, 'tooling': False, 'perpetually': False, 'mortal': False, 'him_': False, 'biziou': False, 'circa': False, 'megaglomaniac': False, 'detests': False, 'bobo': False, 'offset': False, 'gawk': False, 'kilborn': False, 'shrillness': False, 'ungloriously': False, 'academic': False, 'nuanced': False, 'laser': False, 'rep': False, 'eponymous': False, 'waddling': False, 'pris': False, 'minorities': False, 'cinque': False, 'insecticide': False, 'bouts': False, 'identically': False, 'delia': False, 'lincoln': False, 'contrast': False, 'upholds': False, '58': False, 'insisted': False, 'tellingly': False, 'bribes': False, 'firma': False, 'antarctica': False, 'demises': False, 'cameras': False, 'jellyfish': False, 'auspicious': False, 'buy': False, 'hyperreal': False, 'failed': False, 'bimbos': False, 'popped': False, 'idealist': False, 'colm': False, 'procedural': False, 'geeks': False, 'winner': False, 'walken': False, 'snub': False, 'scheduling': False, 'lazard': False, 'unintriguing': False, 'drives': False, 'ian': False, 'commences': False, 'shags': False, 'hoot': False, 'quicksand': False, 'paige': False, 'sugarish': False, 'storagehouse': False, 'eyeball': False, 'sustained': False, 'jeesh': False, '150': False, 'prinze': False, 'morlocks': False, 'houyhnhnms': False, 'stuttering': False, 'convenience': False, 'castilian': False, 'estrogen': False, 'uncovered': False, 'nicer': False, 'battered': False, 'wences': False, 'sakamoto': False, 'tsui': False, 'vitriol': False, 'winningham': False, 'carrion': False, 'thundering': False, 'marketers': False, '\"': True, 'shaft': False, 'schwarz': False, 'encountered': False, 'tarp': False, 'lily': False, 'coffey': False, 'donager': False, 'morally': False, 'exhibition': False, 'slipped': False, 'barby': False, 'steppes': False, 'technology': False, '747s': False, 'fiftieth': False, 'fastest': False, 'stirringly': False, 'gretta': False, 'brinkford': False, 'gratuity': False, 'misfires': False, 'dalmatian': False, 'demonstration': False, 'thumps': False, 'congregate': False, '70ies': False, 'reboux': False, 'stranded': False, 'munch': False, 'recycle': False, 'conceptions': False, 'bums': False, 'sustaining': False, 'valerie': False, 'russel': False, 'live_': False, 'cheeks': False, 'magnetic': False, 'whisker': False, 'bladders': False, 'cheat': False, 'lew': False, 'header': False, 'pleasantries': False, 'pyle': False, 'americans': False, 'deejay': False, 'foregrounded': False, 'disasterous': False, 'obeying': False, 'tyler': False, 'removal': False, 'appealed': False, 'furniture': False, 'aggressive': False, 'exhibited': False, 'cardinal': False, 'veronica': False, '13': False, 'possessive': False, 'bird': False, 'oil': False, 'hue': False, 'examine': False, 'spurs': False, 'examinations': False, 'inexplicable': False, 'introducing': False, 'beta': False, 'demonstrators': False, 'custom': False, 'dole': False, 'waves': False, 'sprightly': False, 'repair': False, 'hunchback': False, 'nbk': False, 'knight': False, 'facade': False, 'outnumber': False, 'airport': False, 'walk': False, 'jaunts': False, 'clause': False, 'argue': False, '_today_': False, 'smart': False, 'depict': False, 'hamlet': False, 'psychomagically': False, 'beantown': False, 'grilling': False, 'forrester': False, 'rotating': False, 'ends': False, 'faults': False, 'avenger': False, '1991': False, 'harries': False, 'berendt': False, 'examples': False, 'individualism': False, 'steal': False, 'telemarketer': False, 'governor': False, 'valet': False, 'socialist': False, 'nashville': False, 'commuter': False, 'adolph': False, 'commie': False, 'friedklin': False, 'pile': False, 'mui': False, 'jugs': False, 'later': False, 'her': True, 'studly': False, 'ideological': False, 'defies': False, 'jedda': False, 'priceless': False, 'fuel': False, 'streep': False, 'pouring': False, 'surmises': False, 'memoirs': False, 'munchings': False, 'bishop': False, 'fleeting': False, 'epitome': False, 'citywide': False, 'messias': False, 'consumer': False, 'chess': False, 'delirious': False, 'unrest': False, 'refund': False, 'paparazzo': False, 'dignity': False, 'dictatorship': False, 'swashbuckers': False, 'neighborhoods': False, 'sordidness': False, 'ruination': False, 'chaotic': False, 'courageous': False, 'nighttime': False, 'emanated': False, 'enlightened': False, 'chain': False, 'cubans': False, 'clarity': False, 'horts': False, 'ohio': False, 'bracing': False, 'shmaltzy': False, 'assedness': False, 'betrothed': False, 'moseys': False, 'disillusioned': False, 'roberta': False, 'nora': False, '1830s': False, 'stakes': False, 'priscilla': False, 'graciela': False, 'diplomat': False, 'friedrich': False, 'princeton': False, 'unbeaten': False, 'dwindling': False, 'xtc': False, 'aural': False, 'around': False, 'flamingo': False, 'armando': False, 'badalamenti': False, 'prospector': False, 'gutsy': False, 'chambers': False, 'birkenau': False, 'consider': False, 'hirsch': False, 'afterwards': False, 'selective': False, 'parable': False, 'campbell': False, 'arc': False, 'ferret': False, 'contribution': False, 'customer': False, 'nomi': False, 'crowchild': False, 'skimpy': False, 'converter': False, 'degenerating': False, 'ward': False, 'armstrong': False, 'earning': False, 'chittering': False, 'housewarming': False, 'nico': False, 'university': False, 'elementary': False, 'dispair': False, 'gullible': False, 'peaceably': False, 'propelling': False, 'scandalous': False, 'u2': False, 'equate': False, 'oceans': False, 'cited': False, 'janssens': False, 'tacitly': False, 'sibling': False, 'visit': False, 'battleship': False, 'mcconaughay': False, 'gu': False, 'came': True, 'exhilaratingly': False, 'grounding': False, 'exotica': False, 'code': False, 'hacks': False, 'housebound': False, 'batgirl': False, 'advancing': False, 'legions': False, 'favor': False, 'customs': False, 'radioing': False, 'wakefield': False, '172': False, 'communications': False, 'nino': False, 'nesmith': False, 'notches': False, 'terrorise': False, 'englund': False, 'upstanding': False, 'ghost': False, 'overbearingly': False, 'unmemorable': False, 'notedom': False, 'fascinated': False, 'bilking': False, 'ching': False, 'buddha': False, 'shoreline': False, 'armani': False, 'enterataining': False, 'yim': False, 'plummer': False, 'reccurs': False, 'precepts': False, 'lindsay': False, 'ralphie': False, 'degradation': False, 'bickering': False, 'grievances': False, 'hippy': False, 'groupings': False, 'willingly': False, 'strut': False, 'zombie': False, 'broderick': False, 'fried': False, 'eatery': False, 'irina': False, 'soulful': False, 'lighweight': False, 'tnt': False, 'synonyms': False, 'grinder': False, 'modernist': False, 'unchallenged': False, 'uninterested': False, 'et': False, 'dredges': False, 'disposing': False, 'penney': False, 'relentlessy': False, 'timex': False, 'decisively': False, 'ipo': False, 'lockup': False, 'jungles': False, 'commensurate': False, 'potshots': False, 'slouched': False, 'silhouettes': False, 'fizzled': False, 'uncleanness': False, 'lewd': False, 'uhhhhhm': False, 'updated': False, 'musings': False, 'bureaucratic': False, 'hairiness': False, 'excitedly': False, 'crude': False, 'splashy': False, 'bussotti': False, 'illegal': False, 'dedicates': False, 'perched': False, 'accidentlly': False, 'pulpy': False, 'lately': False, 'heath': False, 'perkiness': False, 'edson': False, 'utterly': False, 'virtue': False, 'lark': False, 'langton': False, 'such': True, 'sayles': False, 'elaborated': False, 'merchandising': False, 'confirms': False, 'losses': False, 'reared': False, 'outboard': False, 'pomp': False, '23': False, 'entirly': False, 'door': False, 'langer': False, 'spout': False, 'navy': False, 'suspension': False, 'deer': False, 'contender': False, 'avrech': False, 'synchronous': False, 'ying': False, 'experiences': False, 'puppy': False, 'nameless': False, 'guardrail': False, 'repressed': False, 'afore': False, 'jerked': False, 'innuendoes': False, 'goldblum': False, 'fotomat': False, 'italians': False, 'nominal': False, 'hancock': False, 'friendly': False, 'firestone': False, 'ailments': False, 'resent': False, 'safer': False, 'coney': False, 'coworkers': False, 'gio': False, 'marty': False, 'puerile': False, 'whip': False, 'soldiers': False, 'madam': False, 'easily': False, 'keeper': False, 'tossing': False, 'guernica': False, 'gem': False, 'ankh': False, 'deviants': False, 'syrup': False, 'hann': False, 'dowd': False, 'jubilation': False, 'eulogy': False, 'thunderously': False, 'whisking': False, 'renewal': False, 'ah': False, 'dreadfully': False, 'ratcliffe': False, 'trilogy': False, 'simpleminded': False, 'digestive': False, 'contraception': False, 'mctiernan': False, 'primaries': False, 'huntington': False, 'nutter': False, 'won': False, 'petstore': False, 'felicity': False, 'murilo': False, 'baileygaites': False, 'becky': False, 'tough': False, 'bearings': False, 'dismiss': False, 'omniscient': False, 'spleen': False, 'exalts': False, 'argentina': False, 'flame': False, 'emrboidered': False, 'korman': False, 'magically': False, 'mothballs': False, 'irreverence': False, 'townspeople': False, 'scotch': False, 'relaxing': False, 'lobby': False, 'curly': False, 'alcoholics': False, 'elias': False, 'spall': False, 'troma': False, 'costello': False, 'weight': False, 'scaled': False, 'overcasts': False, '05425': False, 'wristed': False, 'rip': False, 'professed': False, 'enchant': False, 'bastion': False, 'insultingly': False, 'spiritualist': False, 'retrospection': False, 'yikes': False, 'glorifying': False, 'exaggerate': False, 'dinky': False, 'angle': False, 'dishonourable': False, 'graeme': False, 'saves': False, 'agreeable': False, 'surroundings': False, 'sword': False, 'saunder': False, 'houston': False, 'snipe': False, 'salvage': False, 'levying': False, 'underpinnings': False, 'reached': False, 'insanity': False, 'dissolved': False, 'clean': False, 'deliver': False, 'glance': False, 'roche': False, 'retardation': False, 'tilly': False, 'corporal': False, 'captained': False, 'sucked': False, 'fabrications': False, 'lemon': False, 'cherish': False, 'reintroduced': False, 'slam': False, 'rigour': False, 'lieutenants': False, 'hipper': False, 'needs': False, 'keenan': False, 'unwittingly': False, 'waist': False, 'curfew': False, 'atrocious': False, 'moranis': False, 'slender': False, 'disgruntled': False, 'camerons': False, 'cordless': False, 'bobby': False, 'lunes': False, 'prodigious': False, 'squirrel': False, 'balances': False, 'sharkskin': False, 'moaning': False, 'cavemen': False, 'qualify': False, 'devastated': False, 'laszlo': False, 'stylewise': False, 'convergence': False, 'replaying': False, 'cornerstone': False, 'negated': False, 'filer': False, 'dirt': False, 'goaded': False, 'hotep': False, 'snagged': False, 'hotcakes': False, 'touchstone': False, 'benz': False, 'fakes': False, 'jiang': False, 'diarist': False, 'form': False, 'missles': False, 'aftermaths': False, 'juxtaposes': False, 'scintillating': False, 'catfight': False, 'esuqe': False, 'luster': False, 'perks': False, 'withdrawn': False, 'mush': False, 'lavish': False, 'duo': False, 'prejudiced': False, 'shells': False, 'milhoan': False, 'accelerate': False, 'straightest': False, 'weasted': False, 'outlining': False, 'dissatisfied': False, 'flung': False, 'whippersnapper': False, 'glen': False, 'succumbing': False, 'dramaturgical': False, 'thankless': False, 'tab': False, 'amoral': False, 'byrd': False, 'mussenden': False, 'burt': False, 'marital': False, 'neurological': False, 'aurelien': False, 'murtaugh': False, 'perlman': False, 'bestow': False, 'lusts': False, 'expelled': False, 'divining': False, 'camerawork': False, 'eaters': False, 'mitch': False, 'slave': False, 'mantel': False, 'phaedra': False, 'augmented': False, 'pronouncing': False, 'hottest': False, 'shadix': False, 'breaks': False, 'fielder': False, 'campfire': False, 'phantastic': False, 'actors': True, 'engrosses': False, '\\x16': False, 'converges': False, 'conspiracies': False, 'sabian': False, 'miller': False, 'encased': False, 'jingo': False, 'polson': False, 'louder': False, 'thumbing': False, 'sidekick': False, 'endear': False, 'policed': False, 'looked': False, 'prospected': False, 'whether': False, 'seductress': False, 'sundry': False, 'misplaced': False, 'limey': False, 'tarveling': False, 'startled': False, 'laws': False, 'chernobyl': False, 'claps': False, 'butchered': False, 'sums': False, 'envigorating': False, 'toadie': False, 'intriguingly': False, 'succeeded': False, 'imho': False, 'dominican': False, 'pained': False, 'sigel': False, 'deduce': False, 'sadistically': False, 'se': False, 'fern': False, 'uplifted': False, 'fealty': False, 'mysterious': False, 'crassness': False, 'polemic': False, 'slung': False, 'herniated': False, 'lope': False, 'fronting': False, 'mendonca': False, 'hard': False, 'prologues': False, 'extols': False, 'friedman': False, 'frock': False, 'grudges': False, 'affectations': False, 'mintues': False, 'breakage': False, 'deathly': False, 'roescher': False, 'stingy': False, 'danforth': False, 'stylistics': False, 'shoring': False, 'emulating': False, 'jewel': False, 'judi': False, 'faithless': False, 'backtrack': False, 'silverado': False, 'rejoin': False, 'genius': False, 'reminiscent': False, 'yale': False, 'sicily': False, 'aghast': False, 'scooping': False, 'funhouse': False, 'ashley': False, 'ingredients': False, 'hynes': False, 'gloop': False, 'posh': False, 'beal': False, 'attendent': False, 'applauding': False, 'pervert': False, 'villagers': False, 'dalle': False, 'matsumoto': False, 'intents': False, 'cosmopolitan': False, 'hatches': False, 'outinen': False, 'shut': False, 'heartstopping': False, 'playboys': False, 'entrusted': False, 'procured': False, 'bowel': False, 'deformation': False, 'grows': False, 'blasting': False, 'sheridan': False, 'unmitigatedly': False, 'newell': False, 'eisner': False, 'thesis': False, 'goliath': False, 'celibacy': False, 'withers': False, 'france': False, 'scissorhands': False, 'spill': False, 'pit': False, 'stairwell': False, 'ounces': False, 'runs': False, 'students': False, 'transmissions': False, 'edd': False, 'than': False, 'telegram': False, 'schwartznager': False, 'siegel': False, 'spouting': False, 'roam': False, 'trough': False, 'emax': False, 'davidovich': False, 'ism': False, 'cycles': False, 'dweeb': False, 'attacked': False, 'freshman': False, 'forfeited': False, 'exqueeze': False, 'osment': False, 'bettany': False, 'tannek': False, 'realizes': False, 'fireflies': False, 'capitalise': False, 'dissing': False, 'hesitance': False, 'vehemence': False, 'boozing': False, 'mutually': False, 'mere': False, 'najimy': False, 'etchings': False, 'toon': False, 'randolph': False, 'zabriskie': False, 'selfish': False, 'priorities': False, 'subtely': False, 'hoary': False, 'awarded': False, 'shrugged': False, 'cheif': False, '2015': False, 'straightens': False, 'idosyncrasies': False, 'resurrects': False, 'peep': False, 'kutcher': False, 'universes': False, 'zone': False, 'webster': False, 'batterings': False, 'bandaged': False, 'boobies': False, 'iraqi': False, 'kindness': False, 'torrential': False, 'substantive': False, 'copasetic': False, 'oakley': False, 'mull': False, 'unattainable': False, 'thespians': False, 'sewing': False, 'snorting': False, 'dashiell': False, 'dumas': False, 'cuts': False, 'greaser': False, 'fonzie': False, 'unspool': False, 'coyotes': False, 'precipice': False, 'sparring': False, 'scripting': False, 'assumption': False, 'sang': False, 'derives': False, 'crows': False, 'dates': False, 'generating': False, 'rehearsals': False, 'fab': False, 'barracks': False, 'shower': False, 'arsed': False, 'kicked': False, 'testifying': False, 'exotic': False, 'elle': False, 'hui': False, 'changin': False, 'reflexively': False, 'lynching': False, 'manifold': False, 'parton': False, 'twirl': False, 'avocations': False, 'trials': False, 'grammatical': False, 'adorning': False, 'stormtrooper': False, 'reelviews': False, 'timelessness': False, 'couture': False, 'menken': False, 'safina': False, 'worrisome': False, 'glossed': False, 'subjective': False, 'abba': False, 'ludicrous': False, 'ath': False, 'vubu': False, 'violets': False, 'lowlives': False, 'localized': False, 'residing': False, 'lasting': False, 'inquisitiveness': False, 'pulsates': False, 'greenpeace': False, 'perps': False, 'dysfuntional': False, 'enchilada': False, 'hammer': False, 'exterminator': False, 'stansfield': False, 'renound': False, 'yarns': False, 'thrillseekers': False, 'wands': False, 'deflects': False, 'bebe': False, 'registering': False, 'plumet': False, 'dr': False, 'charme': False, 'dc': False, 'homeward': False, 'tenant': False, 'equally': False, 'brooklyn': False, 'pects': False, 'basquiat': False, 'schweethaat': False, 'kuei': False, 'renee': False, 'selfless': False, 'measly': False, 'missy': False, 'sawyer': False, 'pampered': False, 'banalities': False, 'guessing': False, 'dethroned': False, 'driveway': False, 'whichever': False, 'nightmarishly': False, 'absolutely': False, 'dishearteningly': False, 'taxes': False, 'shrugging': False, 'shrine': False, 'passionate': False, 'netted': False, 'surveillance': False, 'lapping': False, 'inhabits': False, 'unattractive': False, 'galileo': False, 'tome': False, 'ikwydls': False, 'tamer': False, 'shoveller': False, 'conquest': False, 'replacing': False, 'tire': False, 'moxin': False, 'alligator': False, 'adele': False, 'entrail': False, 'aprhodite': False, 'biased': False, 'appellation': False, 'rhames': False, 'mortality': False, 'fresa': False, 'temper': False, 'vacuous': False, 'layoffs': False, 'intentions': False, 'bedside': False, 'harvesting': False, 'systematic': False, 'aaaahhhs': False, 'impregnated': False, 'provoked': False, 'sgt': False, 'sportscaster': False, 'nut': False, 'haute': False, 'khanh': False, 'scrawled': False, 'watanabe': False, 'distractedness': False, 'carlyle': False, 'revisited': False, 'receptions': False, 'heartwrenching': False, 'abolitionists': False, '1799': False, 'slink': False, 'guarantee': False, 'legwork': False, 'apostle': False, 'ang': False, 'cabinets': False, 'guanglan': False, 'fobbed': False, 'fex': False, 'slavers': False, 'newark': False, 'montreal': False, 'spielbergs': False, 'tibetans': False, 'trustworthy': False, 'judgements': False, 'laserman': False, 'jp3': False, 'ability': False, 'commotion': False, 'buddy': False, 'fargo': False, 'seminude': False, 'darlanne': False, 'burne': False, 'mo': False, 'wings': False, 'supermarkets': False, 'maples': False, 'fixture': False, 'exasperated': False, 'scrabble': False, 'tenacity': False, 'submerge': False, 'sweathogs': False, 'confusingly': False, 'fingernail': False, 'arms': False, 'pyre': False, 'ewe': False, 'courtship': False, 'coping': False, 'serial': False, 'courtyards': False, 'niagara': False, 'pessimism': False, 'berzerk': False, 'flippers': False, 'devlish': False, 'colada': False, 'megalomania': False, 'popitti': False, 'moans': False, 'unambitious': False, 'gumpian': False, 'geno': False, 'methodology': False, 'fiefdoms': False, 'excerpts': False, 'jost': False, 'youngstein': False, 'industrial': False, 'kiffer': False, 'impressions': False, 'aronov': False, 'modestly': False, 'chemisty': False, 'sexism': False, 'takin': False, 'shelton': False, 'wharton': False, 'pruit': False, 'sues': False, 'omits': False, 'paddling': False, 'altercation': False, 'melodies': False, 'yam': False, 'sensory': False, 'motherland': False, 'metzler': False, 'zagged': False, 'classification': False, 'disappointing': False, 'outlanders': False, 'warda': False, 'shadowed': False, 'rebirth': False, 'wagered': False, 'pharmacological': False, 'explorations': False, 'confidant': False, 'apropos': False, 'dogsit': False, 'gunga': False, 'pursing': False, 'jamaica': False, 'jai': False, 'familiarize': False, 'bloodsucker': False, 'vulgarity': False, 'sadism': False, 'dismayingly': False, 'brazil': False, 'divesting': False, 'dreads': False, 'scathing': False, 'kaminsky': False, 'rogues': False, 'stillborn': False, 'undone': False, 'caruso': False, 'copes': False, 'peron': False, 'inquires': False, 'norad': False, 'obstacles': False, 'cheerfulness': False, 'espouses': False, 'pausing': False, 'carlos': False, 'fegan': False, 'beginners': False, 'manor': False, 'blairwitch': False, 'beringer': False, 'mononoke': False, 'fairer': False, 'relate': False, 'refugee': False, 'urgencies': False, 'thrillers': False, 'mcbain': False, 'famke': False, 'ritz': False, 'unconcious': False, 'chatty': False, 'grove': False, 'harum': False, 'bodhi': False, 'brancia': False, 'cantakerous': False, 'smashingly': False, 'tante': False, 'competed': False, 'unbuttoning': False, 'hesitates': False, 'provocatively': False, 'twister': False, 'deductions': False, 'leans': False, 'coe': False, 'quentin': False, 'standouts': False, 'boatloads': False, 'unglamorous': False, 'thunderlips': False, 'risible': False, 'gilligan': False, 'glasgow': False, 'paintings': False, 'superstardom': False}\n"
     ]
    },
    {
     "data": {
      "text/plain": [
       "({'investigations': False,\n",
       "  'lovemaker': False,\n",
       "  'stronger': False,\n",
       "  'palance': True,\n",
       "  'espousing': False,\n",
       "  'nationalism': False,\n",
       "  'universally': False,\n",
       "  'musketeer': False,\n",
       "  'murmur': False,\n",
       "  'hedaya': False,\n",
       "  'russell': True,\n",
       "  'wave': False,\n",
       "  'yossef': False,\n",
       "  'mid': False,\n",
       "  'maxine': False,\n",
       "  'hank': False,\n",
       "  'conspiratorial': False,\n",
       "  'unger': False,\n",
       "  'expressionist': False,\n",
       "  'fetish': False,\n",
       "  'eaddress': False,\n",
       "  'vidal': False,\n",
       "  'mnc': False,\n",
       "  'blizzard': False,\n",
       "  'ravished': False,\n",
       "  'deference': False,\n",
       "  'beams': False,\n",
       "  'thus': False,\n",
       "  'loeb': False,\n",
       "  'boss': False,\n",
       "  'corn': False,\n",
       "  'tornatore': False,\n",
       "  'proves': False,\n",
       "  'floundering': False,\n",
       "  'metaphorically': False,\n",
       "  'caesar': False,\n",
       "  'doubting': False,\n",
       "  'demise': False,\n",
       "  'discotheque': False,\n",
       "  'parent': False,\n",
       "  'twentysometyhings': False,\n",
       "  'retention': False,\n",
       "  'sybil': False,\n",
       "  'shaving': False,\n",
       "  'official': False,\n",
       "  'bergman': False,\n",
       "  'bong': False,\n",
       "  'expenses': False,\n",
       "  'sissy': False,\n",
       "  'penal': False,\n",
       "  'darnedness': False,\n",
       "  'tracy': False,\n",
       "  'toulouse': False,\n",
       "  'gears': False,\n",
       "  'dumbass': False,\n",
       "  'currents': False,\n",
       "  'shaw': False,\n",
       "  'diapers': False,\n",
       "  'memories': False,\n",
       "  'damsel': False,\n",
       "  'bb': False,\n",
       "  'capes': False,\n",
       "  'tuning': False,\n",
       "  'shagwell': False,\n",
       "  'campfest': False,\n",
       "  'incoherent': False,\n",
       "  'footed': False,\n",
       "  'yong': False,\n",
       "  'flushing': False,\n",
       "  'madonna': False,\n",
       "  'livelier': False,\n",
       "  'keith': False,\n",
       "  'openness': False,\n",
       "  'whitehouse': False,\n",
       "  'defeating': False,\n",
       "  'salivate': False,\n",
       "  'voice': False,\n",
       "  'pushes': False,\n",
       "  'suffering': False,\n",
       "  'jaleel': False,\n",
       "  'foreseeable': False,\n",
       "  'frightfully': False,\n",
       "  'condensed': False,\n",
       "  'jimkendrick': False,\n",
       "  'adultery': False,\n",
       "  'pridefully': False,\n",
       "  'renowed': False,\n",
       "  'nietzsche': False,\n",
       "  'pursuit': False,\n",
       "  'euphoria': False,\n",
       "  'northam': False,\n",
       "  'olsson': False,\n",
       "  'interrotron': False,\n",
       "  'maybe': True,\n",
       "  'fashion': False,\n",
       "  'go': False,\n",
       "  '1923': False,\n",
       "  'spattering': False,\n",
       "  'hots': False,\n",
       "  'sufferings': False,\n",
       "  'breakdown': False,\n",
       "  'cutaway': False,\n",
       "  'ramshackle': False,\n",
       "  'plantation': False,\n",
       "  'electronically': False,\n",
       "  'protector': False,\n",
       "  'shriek': False,\n",
       "  'obscene': False,\n",
       "  'mancuso': False,\n",
       "  'flocked': False,\n",
       "  'curing': False,\n",
       "  'turgidson': False,\n",
       "  'congratulates': False,\n",
       "  'wes': False,\n",
       "  'visiting': False,\n",
       "  'coalesce': False,\n",
       "  'prepared': False,\n",
       "  'snatched': False,\n",
       "  'trademarks': False,\n",
       "  'foregone': False,\n",
       "  'centerfold': False,\n",
       "  'inhalants': False,\n",
       "  'homophobe': False,\n",
       "  'lorne': False,\n",
       "  'whelming': False,\n",
       "  'impoverishment': False,\n",
       "  'stammers': False,\n",
       "  'buddying': False,\n",
       "  'dans': False,\n",
       "  'rebels': False,\n",
       "  'comprised': False,\n",
       "  'eisenberg': False,\n",
       "  'subplots': False,\n",
       "  'thoughtfully': False,\n",
       "  'enforces': False,\n",
       "  'bafflingly': False,\n",
       "  'boban': False,\n",
       "  'relying': False,\n",
       "  'lizards': False,\n",
       "  'screenwriterese': False,\n",
       "  'tarzan': False,\n",
       "  'interviewing': False,\n",
       "  'commodus': False,\n",
       "  'surrealist': False,\n",
       "  'innocent': False,\n",
       "  'spock': False,\n",
       "  'cagey': False,\n",
       "  'sounded': False,\n",
       "  'toenail': False,\n",
       "  'cluelessness': False,\n",
       "  'bludgeoning': False,\n",
       "  'stringy': False,\n",
       "  'bury': False,\n",
       "  'virginie': False,\n",
       "  'interminably': False,\n",
       "  'abduction': False,\n",
       "  'wino': False,\n",
       "  'block': False,\n",
       "  'cusswords': False,\n",
       "  'sisco': False,\n",
       "  'gaga': False,\n",
       "  'tenacious': False,\n",
       "  'agitated': False,\n",
       "  'embellished': False,\n",
       "  'zhivago': False,\n",
       "  'beavis': False,\n",
       "  'chalk': False,\n",
       "  'pfarrer': False,\n",
       "  'shares': False,\n",
       "  'meal': False,\n",
       "  'whimpers': False,\n",
       "  'crawler': False,\n",
       "  'straighten': False,\n",
       "  'sorted': False,\n",
       "  'furry': False,\n",
       "  'liberate': False,\n",
       "  'narrowly': False,\n",
       "  'lunacy': False,\n",
       "  'reciting': False,\n",
       "  'wary': False,\n",
       "  'stars': True,\n",
       "  'kamikaze': False,\n",
       "  'swastica': False,\n",
       "  'masterminding': False,\n",
       "  'jolting': False,\n",
       "  'flown': False,\n",
       "  'cecil': False,\n",
       "  'exclusively': False,\n",
       "  'murmuring': False,\n",
       "  'hewson': False,\n",
       "  'progeny': False,\n",
       "  'persuading': False,\n",
       "  'chareau': False,\n",
       "  'vamping': False,\n",
       "  'magazine': False,\n",
       "  'minute': False,\n",
       "  'hunky': False,\n",
       "  'retrieves': False,\n",
       "  'consummating': False,\n",
       "  'kinka': False,\n",
       "  'residuals': False,\n",
       "  'edmunds': False,\n",
       "  'lilianna': False,\n",
       "  'settlers': False,\n",
       "  'hypnotic': False,\n",
       "  'harlin': False,\n",
       "  'tightness': False,\n",
       "  'treasure': False,\n",
       "  'downright': False,\n",
       "  'correspondence': False,\n",
       "  'justifying': False,\n",
       "  'delved': False,\n",
       "  'laboring': False,\n",
       "  'certainly': False,\n",
       "  'sheng': False,\n",
       "  'snorkle': False,\n",
       "  'evolutionary': False,\n",
       "  'anyhow': False,\n",
       "  'tasks': False,\n",
       "  'silliest': False,\n",
       "  'deliberation': False,\n",
       "  'preservation': False,\n",
       "  'desmond': False,\n",
       "  'comic': False,\n",
       "  'improves': False,\n",
       "  'hairstylist': False,\n",
       "  'impartially': False,\n",
       "  'holographic': False,\n",
       "  'jordans': False,\n",
       "  'masala': False,\n",
       "  'banzai': False,\n",
       "  'niceties': False,\n",
       "  'mower': False,\n",
       "  'swap': False,\n",
       "  'woman': False,\n",
       "  'unwillingly': False,\n",
       "  'argo': False,\n",
       "  'weaker': False,\n",
       "  'eartha': False,\n",
       "  'wrongheaded': False,\n",
       "  'winks': False,\n",
       "  'portraying': False,\n",
       "  'reigned': False,\n",
       "  'disconnecting': False,\n",
       "  'spate': False,\n",
       "  'tampered': False,\n",
       "  'impregnating': False,\n",
       "  'caravan': False,\n",
       "  'nitty': False,\n",
       "  'breckin': False,\n",
       "  'scoured': False,\n",
       "  'wastelands': False,\n",
       "  'dana': False,\n",
       "  'reconstruction': False,\n",
       "  'fryer': False,\n",
       "  'mins': False,\n",
       "  'surfaced': False,\n",
       "  'cooperate': False,\n",
       "  'scanners': False,\n",
       "  'disconnect': False,\n",
       "  'hatchets': False,\n",
       "  'jack': True,\n",
       "  'torpedoes': False,\n",
       "  'debuted': False,\n",
       "  'painterly': False,\n",
       "  'bingo': False,\n",
       "  'mourning': False,\n",
       "  'curvier': False,\n",
       "  'downpours': False,\n",
       "  'mythology': False,\n",
       "  'collins': False,\n",
       "  'herald': False,\n",
       "  'naughty': False,\n",
       "  'amateurism': False,\n",
       "  'lecture': False,\n",
       "  'expirating': False,\n",
       "  'eludes': False,\n",
       "  'ross': False,\n",
       "  'carrier': False,\n",
       "  'lodgerley': False,\n",
       "  'unneccesary': False,\n",
       "  'regretfully': False,\n",
       "  'lookalike': False,\n",
       "  'gorier': False,\n",
       "  'overtly': False,\n",
       "  'accounted': False,\n",
       "  'frewer': False,\n",
       "  'helpless': False,\n",
       "  'approachment': False,\n",
       "  '_more_': False,\n",
       "  'whisk': False,\n",
       "  'rockwell': False,\n",
       "  'handled': False,\n",
       "  'mishap': False,\n",
       "  'demarco': False,\n",
       "  'healed': False,\n",
       "  'toasts': False,\n",
       "  'agutter': False,\n",
       "  'limb': False,\n",
       "  'sweetens': False,\n",
       "  'id4': False,\n",
       "  'digital': False,\n",
       "  'tug': False,\n",
       "  'outcast': False,\n",
       "  'unsatisying': False,\n",
       "  'goofiness': False,\n",
       "  'dynamites': False,\n",
       "  'forger': False,\n",
       "  'vivian': False,\n",
       "  'immortals': False,\n",
       "  'incorrect': False,\n",
       "  'apply': False,\n",
       "  'ishibashi': False,\n",
       "  'tombstone': False,\n",
       "  'hang': False,\n",
       "  'revolt': False,\n",
       "  'dicaprip': False,\n",
       "  'satire': False,\n",
       "  'whack': False,\n",
       "  'padawan': False,\n",
       "  'akiko': False,\n",
       "  'egotistical': False,\n",
       "  'the': True,\n",
       "  'thoughtful': False,\n",
       "  'churned': False,\n",
       "  'prop': False,\n",
       "  'afer': False,\n",
       "  'disaffected': False,\n",
       "  'toeing': False,\n",
       "  'blacker': False,\n",
       "  'repel': False,\n",
       "  'colonist': False,\n",
       "  'barren': False,\n",
       "  'leone': False,\n",
       "  'armed': False,\n",
       "  'naps': False,\n",
       "  'singular': False,\n",
       "  'passage': False,\n",
       "  'wayyyy': False,\n",
       "  'paunchy': False,\n",
       "  'witnessing': False,\n",
       "  'widespread': False,\n",
       "  'dosen': False,\n",
       "  'ius': False,\n",
       "  'sze': False,\n",
       "  'terrore': False,\n",
       "  'establishes': False,\n",
       "  'cro': False,\n",
       "  'barn': False,\n",
       "  'bellbottoms': False,\n",
       "  'independece': False,\n",
       "  'buds': False,\n",
       "  'wrenching': False,\n",
       "  'casserole': False,\n",
       "  'charismatic': False,\n",
       "  'charts': False,\n",
       "  'lisbon': False,\n",
       "  'emblematic': False,\n",
       "  'loopy': False,\n",
       "  'duality': False,\n",
       "  'horned': False,\n",
       "  'humphrey': False,\n",
       "  'lenser': False,\n",
       "  'make': True,\n",
       "  'zeta': False,\n",
       "  'electoral': False,\n",
       "  'projected': False,\n",
       "  'jetliners': False,\n",
       "  'tawdriness': False,\n",
       "  'archetype': False,\n",
       "  'glamorized': False,\n",
       "  'pony': False,\n",
       "  '108': False,\n",
       "  'mpd': False,\n",
       "  'centers': False,\n",
       "  'du': False,\n",
       "  'superstitions': False,\n",
       "  'grooving': False,\n",
       "  'wopr': False,\n",
       "  'eyeroll': False,\n",
       "  'pistols': False,\n",
       "  'bulworth': False,\n",
       "  'romanctic': False,\n",
       "  'beethoven': False,\n",
       "  'tracheotomy': False,\n",
       "  'groucho': False,\n",
       "  'maddened': False,\n",
       "  'homeworld': False,\n",
       "  'bastardised': False,\n",
       "  'consequently': True,\n",
       "  'whovians': False,\n",
       "  'abigail': False,\n",
       "  'transitional': False,\n",
       "  'itchy': False,\n",
       "  'lax': False,\n",
       "  'gays': False,\n",
       "  'disloyal': False,\n",
       "  'sodomized': False,\n",
       "  'dietz': False,\n",
       "  'swordfish': False,\n",
       "  'scudding': False,\n",
       "  'ditty': False,\n",
       "  'misinterprets': False,\n",
       "  'phillip': False,\n",
       "  'publisher': False,\n",
       "  'manila': False,\n",
       "  'panoramas': False,\n",
       "  'gunk': False,\n",
       "  'worse': True,\n",
       "  'oskar': False,\n",
       "  'whispers': False,\n",
       "  '701': False,\n",
       "  'curtailed': False,\n",
       "  'spectacularly': False,\n",
       "  'fatherly': False,\n",
       "  'canadian': False,\n",
       "  'review': False,\n",
       "  'farmboy': False,\n",
       "  'catatonia': False,\n",
       "  'defuse': False,\n",
       "  'shuckin': False,\n",
       "  'transference': False,\n",
       "  'inter': False,\n",
       "  'winifred': False,\n",
       "  'blandest': False,\n",
       "  'miscalculated': False,\n",
       "  'winona': False,\n",
       "  'spurting': False,\n",
       "  'chocolat': False,\n",
       "  'takeshi': False,\n",
       "  'cuarsn': False,\n",
       "  'investigators': False,\n",
       "  '_but': False,\n",
       "  'lab': False,\n",
       "  'bribed': False,\n",
       "  'consulting': False,\n",
       "  'norma': False,\n",
       "  'afternoon': False,\n",
       "  'coups': False,\n",
       "  'index': False,\n",
       "  'parodying': False,\n",
       "  'wimp': False,\n",
       "  'seeds': False,\n",
       "  'agreement': False,\n",
       "  'pure': False,\n",
       "  'brasco': False,\n",
       "  'inconsequential': False,\n",
       "  'cartwright': False,\n",
       "  'starling': False,\n",
       "  'image': True,\n",
       "  'tossable': False,\n",
       "  'bewildered': False,\n",
       "  'venkman': False,\n",
       "  'glamor': False,\n",
       "  'snuffed': False,\n",
       "  'comedown': False,\n",
       "  'fidelity': False,\n",
       "  'unravel': False,\n",
       "  'gto': False,\n",
       "  'arli': False,\n",
       "  'narrators': False,\n",
       "  'yippee': False,\n",
       "  'idziak': False,\n",
       "  'dmx': False,\n",
       "  'wallets': False,\n",
       "  'mccullah': False,\n",
       "  'bedded': False,\n",
       "  'uphold': False,\n",
       "  'nobodies': False,\n",
       "  'b': False,\n",
       "  'priestley': False,\n",
       "  '18': False,\n",
       "  'amenities': False,\n",
       "  'shaven': False,\n",
       "  'cohn': False,\n",
       "  'lecturing': False,\n",
       "  'vows': False,\n",
       "  'contemptible': False,\n",
       "  'budgets': False,\n",
       "  'engulf': False,\n",
       "  'sunglasses': False,\n",
       "  'scoundrels': False,\n",
       "  'removing': False,\n",
       "  'sigmoid': False,\n",
       "  'layered': False,\n",
       "  'defends': False,\n",
       "  'captivity': False,\n",
       "  'range': False,\n",
       "  'gleason': False,\n",
       "  'outburst': False,\n",
       "  'placating': False,\n",
       "  'enough': True,\n",
       "  'whipping': False,\n",
       "  'salesman': False,\n",
       "  'bueller': False,\n",
       "  'mercer': False,\n",
       "  'prove': False,\n",
       "  'hart': False,\n",
       "  'tomotoes': False,\n",
       "  'competent': False,\n",
       "  'redux': False,\n",
       "  'navigated': False,\n",
       "  'gossipy': False,\n",
       "  'wing': False,\n",
       "  'disappeared': False,\n",
       "  'la': False,\n",
       "  'sleeper': False,\n",
       "  'bounding': False,\n",
       "  'stump': False,\n",
       "  'pill': False,\n",
       "  'dreamworld': False,\n",
       "  'oasis': False,\n",
       "  'whould': False,\n",
       "  'reign': False,\n",
       "  'xavier': False,\n",
       "  'upn': False,\n",
       "  'grunting': False,\n",
       "  'physical': False,\n",
       "  'counterbalance': False,\n",
       "  'waltzes': False,\n",
       "  'doubts': False,\n",
       "  'scaling': False,\n",
       "  'droogs': False,\n",
       "  'cremet': False,\n",
       "  'upstaged': False,\n",
       "  'spine': False,\n",
       "  'overtones': False,\n",
       "  'multidimensionality': False,\n",
       "  'larceny': False,\n",
       "  'readily': False,\n",
       "  'palatable': False,\n",
       "  'caro': False,\n",
       "  'stan': False,\n",
       "  'meritorious': False,\n",
       "  'ramen': False,\n",
       "  'moroder': False,\n",
       "  'pumma': False,\n",
       "  'natacha': False,\n",
       "  'mutation': False,\n",
       "  'ensue': False,\n",
       "  'luminous': False,\n",
       "  'oxymoron': False,\n",
       "  'gump': False,\n",
       "  'spores': False,\n",
       "  'tod': False,\n",
       "  'colonization': False,\n",
       "  'uhhhm': False,\n",
       "  'perspectives': False,\n",
       "  'elk': False,\n",
       "  'substituted': False,\n",
       "  'stems': False,\n",
       "  'bogg': False,\n",
       "  'rea': False,\n",
       "  'base': False,\n",
       "  'shoddier': False,\n",
       "  'earthquake': False,\n",
       "  'arsenic': False,\n",
       "  'engagement': False,\n",
       "  'clocking': False,\n",
       "  'creaky': False,\n",
       "  'networks': False,\n",
       "  'stewart': False,\n",
       "  'mould': False,\n",
       "  'noxious': False,\n",
       "  'mews': False,\n",
       "  'turd': False,\n",
       "  'meditative': False,\n",
       "  'au': False,\n",
       "  'creative': False,\n",
       "  'ishioka': False,\n",
       "  'quests': False,\n",
       "  'flynn': False,\n",
       "  'granted': False,\n",
       "  'emmet': False,\n",
       "  'phelps': False,\n",
       "  'videos': False,\n",
       "  'slack': False,\n",
       "  'interpol': False,\n",
       "  'olden': False,\n",
       "  'existed': False,\n",
       "  'meld': False,\n",
       "  'quart': False,\n",
       "  'tried': False,\n",
       "  'publishes': False,\n",
       "  'authoritarian': False,\n",
       "  'approachable': False,\n",
       "  'cicely': False,\n",
       "  'infomercial': False,\n",
       "  'catching': False,\n",
       "  'maimed': False,\n",
       "  'pesudo': False,\n",
       "  'geek': False,\n",
       "  '2am': False,\n",
       "  'iroquois': False,\n",
       "  'setup': False,\n",
       "  'duffel': False,\n",
       "  'toning': False,\n",
       "  'arrow': False,\n",
       "  'bible': False,\n",
       "  'verma': False,\n",
       "  'bop': False,\n",
       "  'views': False,\n",
       "  'neandrathal': False,\n",
       "  'grossie': False,\n",
       "  'writes': False,\n",
       "  '62': False,\n",
       "  'malone': False,\n",
       "  'streaking': False,\n",
       "  'mounting': False,\n",
       "  'rate': False,\n",
       "  'trillions': False,\n",
       "  'discerned': False,\n",
       "  'comforting': False,\n",
       "  'volker': False,\n",
       "  'marijo': False,\n",
       "  'corresponded': False,\n",
       "  'hello': False,\n",
       "  'unclear': False,\n",
       "  'grades': False,\n",
       "  'secular': False,\n",
       "  '1970': False,\n",
       "  'outrun': False,\n",
       "  'bresslaw': False,\n",
       "  'reinforcing': False,\n",
       "  'existentialist': False,\n",
       "  'cleaners': False,\n",
       "  'abortive': False,\n",
       "  'devoid': False,\n",
       "  'relativity': False,\n",
       "  'ogden': False,\n",
       "  'philippe': False,\n",
       "  'surveilance': False,\n",
       "  'slippery': False,\n",
       "  'partake': False,\n",
       "  'trawls': False,\n",
       "  'scatology': False,\n",
       "  'fujioka': False,\n",
       "  'captive': False,\n",
       "  'glencoe': False,\n",
       "  'moor': False,\n",
       "  'triad': False,\n",
       "  'devastingly': False,\n",
       "  'owe': False,\n",
       "  'riddler': False,\n",
       "  'holzbog': False,\n",
       "  'fade': False,\n",
       "  'baby': False,\n",
       "  'felliniesque': False,\n",
       "  'crusade': False,\n",
       "  'acquisition': False,\n",
       "  'tagawa': False,\n",
       "  'humiliating': False,\n",
       "  '20': False,\n",
       "  'impoverished': False,\n",
       "  'exiled': False,\n",
       "  'espadrilles': False,\n",
       "  'seminary': False,\n",
       "  'benefited': False,\n",
       "  'gazon': False,\n",
       "  'kunz': False,\n",
       "  'erupted': False,\n",
       "  'rebelled': False,\n",
       "  'frail': False,\n",
       "  'kiberlain': False,\n",
       "  'anxiously': False,\n",
       "  'wane': False,\n",
       "  'hiroyuki': False,\n",
       "  'severed': False,\n",
       "  'dryburgh': False,\n",
       "  'intimacy': False,\n",
       "  'jaunt': False,\n",
       "  'brashly': False,\n",
       "  'angelina': False,\n",
       "  'object': False,\n",
       "  'stoltz': False,\n",
       "  'aykroyd': False,\n",
       "  'shambles': False,\n",
       "  'serena': False,\n",
       "  'grays': False,\n",
       "  'trumping': False,\n",
       "  'approximate': False,\n",
       "  'behaved': False,\n",
       "  'mchale': False,\n",
       "  'pencil': False,\n",
       "  'screenplay': True,\n",
       "  'friggin': False,\n",
       "  'trivialize': False,\n",
       "  'editor': False,\n",
       "  'facilitates': False,\n",
       "  'skunk': False,\n",
       "  'missus': False,\n",
       "  'attractiveness': False,\n",
       "  'transplant': False,\n",
       "  'mortizen': False,\n",
       "  'dmv': False,\n",
       "  'stoops': False,\n",
       "  'babaloo': False,\n",
       "  'villard': False,\n",
       "  'glimpses': False,\n",
       "  'santa': False,\n",
       "  'tremendously': False,\n",
       "  'cad': False,\n",
       "  'primate': False,\n",
       "  'burp': False,\n",
       "  'reports': False,\n",
       "  'eagle': False,\n",
       "  'broadside': False,\n",
       "  'chiming': False,\n",
       "  've': False,\n",
       "  'admitting': False,\n",
       "  'busybody': False,\n",
       "  'carriage': False,\n",
       "  'rollerblades': False,\n",
       "  'technician': False,\n",
       "  'backroads': False,\n",
       "  'civil': False,\n",
       "  'refrigerates': False,\n",
       "  'honda': False,\n",
       "  'publish': False,\n",
       "  'beth': False,\n",
       "  'adepts': False,\n",
       "  'roddenberry': False,\n",
       "  'intrusive': False,\n",
       "  'mcgillis': False,\n",
       "  'hartnett': False,\n",
       "  'rica': False,\n",
       "  'sleepwalk': False,\n",
       "  'angrier': False,\n",
       "  'maroon': False,\n",
       "  'boyd': False,\n",
       "  'quandary': False,\n",
       "  'shred': False,\n",
       "  'tour': False,\n",
       "  'overused': False,\n",
       "  'heal': False,\n",
       "  'epilepsy': False,\n",
       "  '_the_broadway_musical_': False,\n",
       "  'obviously': False,\n",
       "  'prodigal': False,\n",
       "  'nanny': False,\n",
       "  'bigwigs': False,\n",
       "  'nanook': False,\n",
       "  '_can': False,\n",
       "  'sciorra': False,\n",
       "  'ermey': False,\n",
       "  'deputy': False,\n",
       "  'kentucky': False,\n",
       "  'mississippi': False,\n",
       "  'power': False,\n",
       "  'maury': False,\n",
       "  'filmgoing': False,\n",
       "  'resultant': False,\n",
       "  'visited': False,\n",
       "  'east': False,\n",
       "  'pratfalls': False,\n",
       "  'writers': False,\n",
       "  'barcode': False,\n",
       "  '27': False,\n",
       "  'acceptable': False,\n",
       "  'multiplex': False,\n",
       "  'housekeeping': False,\n",
       "  'haas': False,\n",
       "  'aristocrat': False,\n",
       "  'satirized': False,\n",
       "  'buffy': False,\n",
       "  'similarities': False,\n",
       "  'breillat': False,\n",
       "  'yon': False,\n",
       "  'randomly': False,\n",
       "  'swansong': False,\n",
       "  'covering': False,\n",
       "  '_knock_off_': False,\n",
       "  'rennie': False,\n",
       "  'transmission': False,\n",
       "  'advance': False,\n",
       "  'languidly': False,\n",
       "  'overrun': False,\n",
       "  'thermians': False,\n",
       "  'confers': False,\n",
       "  'entrails': False,\n",
       "  'distinctions': False,\n",
       "  'mirren': False,\n",
       "  'pageant': False,\n",
       "  'tapping': False,\n",
       "  'uhf': False,\n",
       "  'tornado': False,\n",
       "  'corbin': False,\n",
       "  'lindo': False,\n",
       "  'skies': False,\n",
       "  'marginally': False,\n",
       "  'flatly': False,\n",
       "  'andy': False,\n",
       "  'saville': False,\n",
       "  'picturesque': False,\n",
       "  'dade': False,\n",
       "  'midwestern': False,\n",
       "  'sawalha': False,\n",
       "  'demystification': False,\n",
       "  'bullcrap': False,\n",
       "  'hashish': False,\n",
       "  'shawn': False,\n",
       "  'branched': False,\n",
       "  'briefly': False,\n",
       "  'vikram': False,\n",
       "  'likely': False,\n",
       "  'neutrality': False,\n",
       "  'pimple': False,\n",
       "  'update': False,\n",
       "  'strategically': False,\n",
       "  'groundbreaking': False,\n",
       "  'urban': False,\n",
       "  'betrayals': False,\n",
       "  'milliken': False,\n",
       "  'gilpin': False,\n",
       "  'segments': False,\n",
       "  'azaria': False,\n",
       "  'spoilsport': False,\n",
       "  '_54_': False,\n",
       "  'trophy': False,\n",
       "  'wittier': False,\n",
       "  'december': False,\n",
       "  'seku': False,\n",
       "  'notre': False,\n",
       "  'clairvoyant': False,\n",
       "  'disjointment': False,\n",
       "  'assimilating': False,\n",
       "  'they': True,\n",
       "  'edelman': False,\n",
       "  'smooth': False,\n",
       "  'whale': False,\n",
       "  'chewbacca': False,\n",
       "  'revisions': False,\n",
       "  'ismael': False,\n",
       "  'museum': False,\n",
       "  'ga': False,\n",
       "  'choreography': False,\n",
       "  'hardy': False,\n",
       "  'fashionable': False,\n",
       "  'admitedly': False,\n",
       "  'dubois': False,\n",
       "  'honorary': False,\n",
       "  'sadist': False,\n",
       "  'weirdoes': False,\n",
       "  'march': False,\n",
       "  'sink': False,\n",
       "  'hitters': False,\n",
       "  'buena': False,\n",
       "  'wakes': False,\n",
       "  'battlefields': False,\n",
       "  'radio': False,\n",
       "  'cottage': False,\n",
       "  'hooey': False,\n",
       "  'riiiiight': False,\n",
       "  'foreheads': False,\n",
       "  'disproves': False,\n",
       "  'weathers': False,\n",
       "  'inferior': False,\n",
       "  'quixotic': False,\n",
       "  'keegan': False,\n",
       "  'holmes': False,\n",
       "  'bava': False,\n",
       "  'councilmembers': False,\n",
       "  'coined': False,\n",
       "  'larter': False,\n",
       "  'pro': False,\n",
       "  'sexless': False,\n",
       "  'cheapie': False,\n",
       "  'oily': False,\n",
       "  'befitting': False,\n",
       "  'holidaygoers': False,\n",
       "  'dombasle': False,\n",
       "  'reset': False,\n",
       "  'bopping': False,\n",
       "  'saracastic': False,\n",
       "  'everybody': False,\n",
       "  'colorless': False,\n",
       "  'unstable': False,\n",
       "  'becker': False,\n",
       "  'whirry': False,\n",
       "  'drowned': False,\n",
       "  'slides': False,\n",
       "  '_h20_': False,\n",
       "  'guttural': False,\n",
       "  'translating': False,\n",
       "  'father': False,\n",
       "  'rubick': False,\n",
       "  'let': False,\n",
       "  'replica': False,\n",
       "  'loudmouthed': False,\n",
       "  'oft': False,\n",
       "  'retires': False,\n",
       "  'striving': False,\n",
       "  'payment': False,\n",
       "  'jurgen': False,\n",
       "  'manchurian': False,\n",
       "  'overdubbed': False,\n",
       "  'apprenticeship': False,\n",
       "  'faint': False,\n",
       "  'prescient': False,\n",
       "  'smeared': False,\n",
       "  'unending': False,\n",
       "  'interpersonal': False,\n",
       "  'muck': False,\n",
       "  'users': False,\n",
       "  'protgaonist': False,\n",
       "  'restatement': False,\n",
       "  'volunteering': False,\n",
       "  'distorted': False,\n",
       "  'irritated': False,\n",
       "  'disilusioned': False,\n",
       "  'treacly': False,\n",
       "  'inquisitive': False,\n",
       "  'camouflage': False,\n",
       "  'clothing': False,\n",
       "  'alerted': False,\n",
       "  'askew': False,\n",
       "  'kinda': False,\n",
       "  'displaced': False,\n",
       "  'charlotte': False,\n",
       "  'regardless': False,\n",
       "  'good': True,\n",
       "  'banjo': False,\n",
       "  'terrors': False,\n",
       "  'etiquette': False,\n",
       "  'head': True,\n",
       "  'titillation': False,\n",
       "  '_armageddon_': False,\n",
       "  'figueras': False,\n",
       "  'portion': False,\n",
       "  'grafted': False,\n",
       "  'identification': False,\n",
       "  'obdurate': False,\n",
       "  'mild': False,\n",
       "  'chastising': False,\n",
       "  'jivin': False,\n",
       "  'bandits': False,\n",
       "  'cass': False,\n",
       "  'who': True,\n",
       "  '_shaft': False,\n",
       "  'wbn': False,\n",
       "  'hudgeons': False,\n",
       "  'homoerotic': False,\n",
       "  'tally': False,\n",
       "  'gambon': False,\n",
       "  'bandaras': False,\n",
       "  'moustached': False,\n",
       "  'rock': False,\n",
       "  'broker': False,\n",
       "  'welder': False,\n",
       "  'valiant': False,\n",
       "  '_all_': False,\n",
       "  'brogue': False,\n",
       "  'senate': False,\n",
       "  'plots': False,\n",
       "  'conjunction': False,\n",
       "  'cheapens': False,\n",
       "  'franz': False,\n",
       "  'tasted': False,\n",
       "  'haze': False,\n",
       "  'flynt': False,\n",
       "  'graces': False,\n",
       "  'nahon': False,\n",
       "  '=======================': False,\n",
       "  'braided': False,\n",
       "  'fields': False,\n",
       "  'restored': False,\n",
       "  'anton': False,\n",
       "  'melodrama': False,\n",
       "  '1926': False,\n",
       "  'populate': False,\n",
       "  'rambunctious': False,\n",
       "  'promiscuous': False,\n",
       "  'helpfulness': False,\n",
       "  'assistants': False,\n",
       "  'celestial': False,\n",
       "  'watering': False,\n",
       "  'bunyan': False,\n",
       "  'voizin': False,\n",
       "  'debuts': False,\n",
       "  'turntables': False,\n",
       "  'deuteronomy': False,\n",
       "  'nbsp': False,\n",
       "  'faltermeyer': True,\n",
       "  'sewer': False,\n",
       "  'mussolini': False,\n",
       "  'hansel': False,\n",
       "  'trundle': False,\n",
       "  'coinage': False,\n",
       "  'milano': False,\n",
       "  'monastery': False,\n",
       "  'disruption': False,\n",
       "  'laughs': False,\n",
       "  'porches': False,\n",
       "  'tierney': False,\n",
       "  'unfortunately': True,\n",
       "  'dorff': False,\n",
       "  'cormack': False,\n",
       "  'join': False,\n",
       "  'bewitched': False,\n",
       "  'last': False,\n",
       "  ...},\n",
       " 'neg')"
      ]
     },
     "execution_count": 118,
     "metadata": {},
     "output_type": "execute_result"
    }
   ],
   "source": [
    "# Top someodd words\n",
    "word_features = list(all_words.keys())[:3000]\n",
    "\n",
    "# Returns a dict with the word and its presence (bool) in document\n",
    "def find_features(document):\n",
    "    words = set(document)\n",
    "    features = {}\n",
    "    features = {w: w in words for w in word_features}\n",
    "    return features\n",
    "\n",
    "print(find_features(movie_reviews.words('neg/cv000_29416.txt')))\n",
    "# List of words and their presence in document along with label for that document\n",
    "featuresets = [(find_features(rev), category) for (rev, category) in documents]\n",
    "print(featuresets[0])"
   ]
  },
  {
   "cell_type": "markdown",
   "metadata": {},
   "source": [
    "### Training and saving naive Bayes classifier model"
   ]
  },
  {
   "cell_type": "code",
   "execution_count": 135,
   "metadata": {
    "collapsed": false
   },
   "outputs": [
    {
     "name": "stdout",
     "output_type": "stream",
     "text": [
      "Classifier accuracy  =  0.66\n"
     ]
    }
   ],
   "source": [
    "# Split into training and test set\n",
    "\n",
    "training_set, test_set = featuresets[:1900], featuresets[1900:]\n",
    "\n",
    "# Train\n",
    "classifier = nltk.NaiveBayesClassifier.train(training_set)\n",
    "\n",
    "# Test\n",
    "print(\"Classifier accuracy  = \", (nltk.classify.accuracy(classifier, test_set)))"
   ]
  },
  {
   "cell_type": "code",
   "execution_count": 122,
   "metadata": {
    "collapsed": false
   },
   "outputs": [
    {
     "name": "stdout",
     "output_type": "stream",
     "text": [
      "Most Informative Features\n",
      "               atrocious = True              neg : pos    =     11.3 : 1.0\n",
      "               ludicrous = True              neg : pos    =     10.4 : 1.0\n",
      "                    gump = True              pos : neg    =      9.3 : 1.0\n",
      "              incoherent = True              neg : pos    =      8.1 : 1.0\n",
      "                 layered = True              pos : neg    =      7.9 : 1.0\n",
      "               furniture = True              neg : pos    =      6.8 : 1.0\n",
      "                musicals = True              pos : neg    =      6.5 : 1.0\n",
      "                  skimpy = True              neg : pos    =      6.1 : 1.0\n",
      "                  osment = True              pos : neg    =      5.8 : 1.0\n",
      "                   flynt = True              pos : neg    =      5.8 : 1.0\n",
      "                  rebels = True              pos : neg    =      5.8 : 1.0\n",
      "            surveillance = True              neg : pos    =      5.5 : 1.0\n",
      "                   dreck = True              neg : pos    =      5.5 : 1.0\n",
      "                promptly = True              neg : pos    =      5.5 : 1.0\n",
      "                   vapid = True              neg : pos    =      5.5 : 1.0\n"
     ]
    }
   ],
   "source": [
    "# What are the most valuable words when it comes to the neg/pos labels\n",
    "# You'll see the ratio of occurrences neg:pos or pos:neg, depending, to \n",
    "# see how often a word appears in one label as compared to the other.\n",
    "classifier.show_most_informative_features(15)"
   ]
  },
  {
   "cell_type": "markdown",
   "metadata": {},
   "source": [
    "Save the model with pickle"
   ]
  },
  {
   "cell_type": "code",
   "execution_count": 124,
   "metadata": {
    "collapsed": true
   },
   "outputs": [],
   "source": [
    "with open('naivebayes.pickle', 'wb') as f:\n",
    "    pickle.dump(classifier, f)"
   ]
  },
  {
   "cell_type": "markdown",
   "metadata": {},
   "source": [
    "Reload model"
   ]
  },
  {
   "cell_type": "code",
   "execution_count": 125,
   "metadata": {
    "collapsed": true
   },
   "outputs": [],
   "source": [
    "with open('naivebayes.pickle', 'rb') as f:\n",
    "    classifier = pickle.load(f)"
   ]
  },
  {
   "cell_type": "code",
   "execution_count": 132,
   "metadata": {
    "collapsed": false
   },
   "outputs": [
    {
     "data": {
      "text/plain": [
       "'neg'"
      ]
     },
     "execution_count": 132,
     "metadata": {},
     "output_type": "execute_result"
    }
   ],
   "source": [
    "# Test on one document (#5) without the label (just the first element of our tuple)\n",
    "classifier.classify(test_set[4][0])"
   ]
  },
  {
   "cell_type": "markdown",
   "metadata": {},
   "source": [
    "### NLTK and Scikit-Learn\n",
    "There's an API made by the nltk folks for leveraging sklearn."
   ]
  },
  {
   "cell_type": "code",
   "execution_count": 136,
   "metadata": {
    "collapsed": false
   },
   "outputs": [
    {
     "name": "stdout",
     "output_type": "stream",
     "text": [
      "MultinomialNB accuracy =  0.69\n"
     ]
    }
   ],
   "source": [
    "mnb_classifer = SklearnClassifier(MultinomialNB())\n",
    "mnb_classifer.train(training_set)\n",
    "print('MultinomialNB accuracy = ',\n",
    "      nltk.classify.accuracy(mnb_classifer, test_set))"
   ]
  },
  {
   "cell_type": "code",
   "execution_count": 146,
   "metadata": {
    "collapsed": false
   },
   "outputs": [
    {
     "name": "stdout",
     "output_type": "stream",
     "text": [
      "BernoulliNB accuracy =  0.65\n"
     ]
    }
   ],
   "source": [
    "bnb_classifer = SklearnClassifier(BernoulliNB())\n",
    "bnb_classifer.train(training_set)\n",
    "print('BernoulliNB accuracy = ',\n",
    "      nltk.classify.accuracy(bnb_classifer, test_set))"
   ]
  },
  {
   "cell_type": "code",
   "execution_count": 140,
   "metadata": {
    "collapsed": false
   },
   "outputs": [
    {
     "name": "stdout",
     "output_type": "stream",
     "text": [
      "LogisticRegression accuracy =  0.71\n"
     ]
    }
   ],
   "source": [
    "lr_classifier = SklearnClassifier(LogisticRegression())\n",
    "lr_classifier.train(training_set)\n",
    "print('LogisticRegression accuracy = ',\n",
    "      nltk.classify.accuracy(lr_classifier, test_set))"
   ]
  },
  {
   "cell_type": "code",
   "execution_count": 141,
   "metadata": {
    "collapsed": false
   },
   "outputs": [
    {
     "name": "stdout",
     "output_type": "stream",
     "text": [
      "SGDClassifier accuracy =  0.59\n"
     ]
    }
   ],
   "source": [
    "sgd_classifier = SklearnClassifier(SGDClassifier())\n",
    "sgd_classifier.train(training_set)\n",
    "print('SGDClassifier accuracy = ',\n",
    "      nltk.classify.accuracy(sgd_classifier, test_set))"
   ]
  },
  {
   "cell_type": "code",
   "execution_count": 143,
   "metadata": {
    "collapsed": false
   },
   "outputs": [
    {
     "name": "stdout",
     "output_type": "stream",
     "text": [
      "SVC accuracy =  0.36\n"
     ]
    }
   ],
   "source": [
    "svc_classifier = SklearnClassifier(SVC())\n",
    "svc_classifier.train(training_set)\n",
    "print('SVC accuracy = ',\n",
    "      nltk.classify.accuracy(svc_classifier, test_set))"
   ]
  },
  {
   "cell_type": "code",
   "execution_count": 144,
   "metadata": {
    "collapsed": false
   },
   "outputs": [
    {
     "name": "stdout",
     "output_type": "stream",
     "text": [
      "LinearSVC accuracy =  0.65\n"
     ]
    }
   ],
   "source": [
    "linearsvc_classifier = SklearnClassifier(LinearSVC())\n",
    "linearsvc_classifier.train(training_set)\n",
    "print('LinearSVC accuracy = ',\n",
    "      nltk.classify.accuracy(linearsvc_classifier, test_set))"
   ]
  },
  {
   "cell_type": "code",
   "execution_count": 145,
   "metadata": {
    "collapsed": false
   },
   "outputs": [
    {
     "name": "stdout",
     "output_type": "stream",
     "text": [
      "NuSVC accuracy =  0.64\n"
     ]
    }
   ],
   "source": [
    "nusvc_classifier = SklearnClassifier(NuSVC())\n",
    "nusvc_classifier.train(training_set)\n",
    "print('NuSVC accuracy = ',\n",
    "      nltk.classify.accuracy(nusvc_classifier, test_set))"
   ]
  },
  {
   "cell_type": "code",
   "execution_count": null,
   "metadata": {
    "collapsed": true
   },
   "outputs": [],
   "source": []
  }
 ],
 "metadata": {
  "anaconda-cloud": {},
  "kernelspec": {
   "display_name": "Python [default]",
   "language": "python",
   "name": "python3"
  },
  "language_info": {
   "codemirror_mode": {
    "name": "ipython",
    "version": 3
   },
   "file_extension": ".py",
   "mimetype": "text/x-python",
   "name": "python",
   "nbconvert_exporter": "python",
   "pygments_lexer": "ipython3",
   "version": "3.5.2"
  }
 },
 "nbformat": 4,
 "nbformat_minor": 1
}
